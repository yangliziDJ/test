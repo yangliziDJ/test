{
 "cells": [
  {
   "cell_type": "markdown",
   "metadata": {},
   "source": [
    "# Kotlin简介\n",
    "---"
   ]
  },
  {
   "cell_type": "markdown",
   "metadata": {},
   "source": [
    "## Hello World"
   ]
  },
  {
   "cell_type": "code",
   "execution_count": null,
   "metadata": {},
   "outputs": [],
   "source": [
    "println(\"Hello, world!\")"
   ]
  },
  {
   "cell_type": "markdown",
   "metadata": {},
   "source": [
    "---\n",
    "## Kotlin的优点"
   ]
  },
  {
   "cell_type": "markdown",
   "metadata": {},
   "source": [
    "### 简洁\n",
    "使用一行代码创建一个包含 getters、 setters、 equals()、 hashCode()、 toString() 以及 copy() 的 POJO："
   ]
  },
  {
   "cell_type": "code",
   "execution_count": null,
   "metadata": {},
   "outputs": [],
   "source": [
    "data class Customer(val name: String, val email: String, val company: String)\n",
    "\n",
    "val customer = Customer(\"Han Meimei\", \"hanmeimei@baidu.com\", \"Baidu, Inc\")\n",
    "\n",
    "println(customer.name)"
   ]
  },
  {
   "cell_type": "markdown",
   "metadata": {},
   "source": [
    "或者使用 lambda 表达式来过滤列表："
   ]
  },
  {
   "cell_type": "code",
   "execution_count": null,
   "metadata": {},
   "outputs": [],
   "source": [
    "val list = listOf(-3, -2, 1, 6, 9)\n",
    "val positiveNumbers = list.filter { it > 0 }\n",
    "println(positiveNumbers)"
   ]
  },
  {
   "cell_type": "markdown",
   "metadata": {},
   "source": [
    "想要单例？创建一个 object 就可以了："
   ]
  },
  {
   "cell_type": "code",
   "execution_count": null,
   "metadata": {},
   "outputs": [],
   "source": [
    "object ThisIsASingleton {\n",
    "    val companyName: String = \"JetBrains\"\n",
    "}\n",
    "println(ThisIsASingleton.companyName)"
   ]
  },
  {
   "cell_type": "markdown",
   "metadata": {},
   "source": [
    "### 安全\n",
    "彻底告别那些烦人的 NullPointerException。"
   ]
  },
  {
   "cell_type": "code",
   "execution_count": null,
   "metadata": {},
   "outputs": [],
   "source": [
    "fun main() {\n",
    "    var output: String\n",
    "    output = null   // 编译错误\n",
    "}\n",
    "main()"
   ]
  },
  {
   "cell_type": "markdown",
   "metadata": {},
   "source": [
    "Kotlin 可以保护你避免对可空类型的误操作"
   ]
  },
  {
   "cell_type": "code",
   "execution_count": null,
   "metadata": {},
   "outputs": [],
   "source": [
    "val a: String? = \"null\"    // 可控类型\n",
    "println(a.length)  // 编译错误\n"
   ]
  },
  {
   "cell_type": "markdown",
   "metadata": {},
   "source": [
    "并且如果你检测类型是正确的，编译器会为你做自动类型转换"
   ]
  },
  {
   "cell_type": "code",
   "execution_count": null,
   "metadata": {
    "scrolled": true
   },
   "outputs": [],
   "source": [
    "class Invoice(val a: Int, val b: Int) {\n",
    "    fun calculateTotal() : Int {\n",
    "        var c = a + b\n",
    "        println(c)\n",
    "        return c\n",
    "    }\n",
    "}\n",
    "\n",
    "fun calculateTotal(obj: Any) {\n",
    "    if (obj is Invoice)\n",
    "        obj.calculateTotal()\n",
    "}\n",
    "\n",
    "calculateTotal(Invoice(3, 4))"
   ]
  },
  {
   "cell_type": "markdown",
   "metadata": {},
   "source": [
    "### 互操作性\n",
    "充分利用JVM、Android和浏览器的现有库"
   ]
  },
  {
   "cell_type": "markdown",
   "metadata": {},
   "source": [
    "### 工具友好\n",
    "可用任何Java IDE或者命令行构建"
   ]
  },
  {
   "cell_type": "markdown",
   "metadata": {},
   "source": [
    "---\n",
    "## 基本语法\n",
    "### 包的定义与导入\n",
    "包的声明应处于源文件顶部："
   ]
  },
  {
   "cell_type": "code",
   "execution_count": null,
   "metadata": {},
   "outputs": [],
   "source": [
    "package my.demo\n",
    "\n",
    "import kotlin.text.*\n",
    "\n",
    "// ……"
   ]
  },
  {
   "cell_type": "markdown",
   "metadata": {},
   "source": [
    "目录与包的结构无需匹配：源代码可以在文件系统的任意位置。(不建议)"
   ]
  },
  {
   "cell_type": "markdown",
   "metadata": {},
   "source": [
    "### 函数\n",
    "带有两个 Int 参数、返回 Int 的函数："
   ]
  },
  {
   "cell_type": "code",
   "execution_count": null,
   "metadata": {},
   "outputs": [],
   "source": [
    "// MathUtil.kt\n",
    "fun sum(a: Int, b: Int): Int {\n",
    "    return a + b\n",
    "}\n",
    "\n",
    "\n",
    "print(\"sum of 3 and 5 is \")\n",
    "println(sum(3, 5))\n"
   ]
  },
  {
   "cell_type": "markdown",
   "metadata": {},
   "source": [
    "声明的顶层函数，在Java被当作静态方法，如上例中,在MathUtil.kt文件中声明的顶层函数sum,在Java中通过MathUtilKt.sum()调用"
   ]
  },
  {
   "cell_type": "markdown",
   "metadata": {},
   "source": [
    "将表达式作为函数体、返回值类型自动推断的函数："
   ]
  },
  {
   "cell_type": "code",
   "execution_count": null,
   "metadata": {},
   "outputs": [],
   "source": [
    "fun sum(a: Int, b: Int) = a + b\n",
    "\n",
    "println(\"sum of 19 and 23 is ${sum(19, 23)}\")"
   ]
  },
  {
   "cell_type": "markdown",
   "metadata": {},
   "source": [
    "函数返回无意义的值："
   ]
  },
  {
   "cell_type": "code",
   "execution_count": null,
   "metadata": {},
   "outputs": [],
   "source": [
    "fun printSum(a: Int, b: Int): Unit {\n",
    "    println(\"sum of $a and $b is ${a + b}\")\n",
    "}\n",
    "\n",
    "printSum(-1, 8)"
   ]
  },
  {
   "cell_type": "markdown",
   "metadata": {},
   "source": [
    "Unit 返回类型可以省略："
   ]
  },
  {
   "cell_type": "code",
   "execution_count": null,
   "metadata": {},
   "outputs": [],
   "source": [
    "fun printSum(a: Int, b: Int) {\n",
    "    println(\"sum of $a and $b is ${a + b}\")\n",
    "}\n",
    "\n",
    "printSum(-1, 8)"
   ]
  },
  {
   "cell_type": "markdown",
   "metadata": {},
   "source": [
    "### 扩展函数\n",
    "可以为已有的类添加方法"
   ]
  },
  {
   "cell_type": "code",
   "execution_count": null,
   "metadata": {},
   "outputs": [],
   "source": [
    "fun String.lastChar(): Char = this.get(this.length - 1)\n",
    "\n",
    "println(\"Kotlin\".lastChar())"
   ]
  },
  {
   "cell_type": "markdown",
   "metadata": {},
   "source": [
    "扩展方法不可重写"
   ]
  },
  {
   "cell_type": "markdown",
   "metadata": {},
   "source": [
    "### 局部函数"
   ]
  },
  {
   "cell_type": "code",
   "execution_count": null,
   "metadata": {},
   "outputs": [],
   "source": [
    "class User(val id: Int, val name: String, val address: String)\n",
    "\n",
    "fun saveUser(user: User) {\n",
    "    if (user.name.isEmpty()) {\n",
    "        throw IllegalArgumentException(\n",
    "            \"Can't save user ${user.id}: empty Name\")\n",
    "    }\n",
    "    \n",
    "    if (user.address.isEmpty()) {\n",
    "        throw IllegalArgumentException(\n",
    "            \"Can't save user ${user.id}: empty Address\")\n",
    "    }\n",
    "}\n",
    "\n",
    "saveUser(User(1, \"\", \"\"))"
   ]
  },
  {
   "cell_type": "markdown",
   "metadata": {},
   "source": [
    "通过提取局部函数来避免重复："
   ]
  },
  {
   "cell_type": "code",
   "execution_count": null,
   "metadata": {},
   "outputs": [],
   "source": [
    "class User(val id: Int, val name: String, val address: String)\n",
    "\n",
    "fun saveUser(user: User) {\n",
    "    fun validate(value: String, fieldName: String) {\n",
    "        if (value.isEmpty()) {\n",
    "            throw IllegalArgumentException(\"Can't svae user ${user.id}: empty $fieldName\")\n",
    "        }\n",
    "    }\n",
    "    validate(user.name, \"Name\")\n",
    "    validate(user.address, \"Address\")\n",
    "}\n",
    "saveUser(User(1, \"\", \"\"))"
   ]
  },
  {
   "cell_type": "markdown",
   "metadata": {},
   "source": [
    "### 变量\n",
    "定义只读局部变量使用关键字 val 定义。只能为其赋值一次。"
   ]
  },
  {
   "cell_type": "code",
   "execution_count": null,
   "metadata": {},
   "outputs": [],
   "source": [
    "fun main() {\n",
    "    val a: Int = 1  // 立即赋值\n",
    "    val b = 2   // 自动推断出 `Int` 类型\n",
    "    val c: Int  // 如果没有初始值类型不能省略\n",
    "    c = 3       // 明确赋值\n",
    "    println(\"a = $a, b = $b, c = $c\")\n",
    "}\n",
    "main()"
   ]
  },
  {
   "cell_type": "markdown",
   "metadata": {},
   "source": [
    "可重新赋值的变量使用 var 关键字："
   ]
  },
  {
   "cell_type": "code",
   "execution_count": null,
   "metadata": {},
   "outputs": [],
   "source": [
    "fun main() {\n",
    "    var x = 5 // 自动推断出 `Int` 类型\n",
    "    x += 1\n",
    "    println(\"x = $x\")\n",
    "}\n",
    "main()"
   ]
  },
  {
   "cell_type": "markdown",
   "metadata": {},
   "source": [
    "顶层变量："
   ]
  },
  {
   "cell_type": "code",
   "execution_count": null,
   "metadata": {},
   "outputs": [],
   "source": [
    "val PI = 3.14\n",
    "var x = 0\n",
    "\n",
    "fun incrementX() { \n",
    "    x += 1 \n",
    "}\n",
    "\n",
    "fun main() {\n",
    "    println(\"x = $x; PI = $PI\")\n",
    "    incrementX()\n",
    "    println(\"incrementX()\")\n",
    "    println(\"x = $x; PI = $PI\")\n",
    "}\n",
    "main()"
   ]
  },
  {
   "cell_type": "markdown",
   "metadata": {},
   "source": [
    "### 字符串模板"
   ]
  },
  {
   "cell_type": "code",
   "execution_count": null,
   "metadata": {},
   "outputs": [],
   "source": [
    "var a = 1\n",
    "// 模板中的简单名称：\n",
    "val s1 = \"a is $a\" \n",
    "\n",
    "a = 2\n",
    "// 模板中的任意表达式：\n",
    "val s2 = \"${s1.replace(\"is\", \"was\")}, but now is $a\"\n",
    "println(s2)"
   ]
  },
  {
   "cell_type": "markdown",
   "metadata": {},
   "source": [
    "### 条件表达式"
   ]
  },
  {
   "cell_type": "code",
   "execution_count": null,
   "metadata": {},
   "outputs": [],
   "source": [
    "fun maxOf(a: Int, b: Int): Int {\n",
    "    if (a > b) {\n",
    "        return a\n",
    "    } else {\n",
    "        return b\n",
    "    }\n",
    "}\n",
    "\n",
    "println(\"max of 0 and 42 is ${maxOf(0, 42)}\")"
   ]
  },
  {
   "cell_type": "markdown",
   "metadata": {},
   "source": [
    "在 Kotlin 中，if 也可以用作表达式："
   ]
  },
  {
   "cell_type": "code",
   "execution_count": null,
   "metadata": {},
   "outputs": [],
   "source": [
    "fun maxOf(a: Int, b: Int) = if (a > b) a else b\n",
    "\n",
    "println(\"max of 0 and 42 is ${maxOf(0, 42)}\")"
   ]
  },
  {
   "cell_type": "markdown",
   "metadata": {},
   "source": [
    "### 空值与 null 检测\n",
    "当某个变量的值可以为 null 的时候，必须在声明处的类型后添加 ? 来标识该引用可为空。\n",
    "\n",
    "如果 str 的内容不是数字返回 null：\n",
    "```\n",
    "fun parseInt(str: String): Int? {\n",
    "    // ……\n",
    "}\n",
    "```\n",
    "使用返回可空值的函数:"
   ]
  },
  {
   "cell_type": "code",
   "execution_count": null,
   "metadata": {},
   "outputs": [],
   "source": [
    "fun parseInt(str: String): Int? {\n",
    "    return str.toIntOrNull()\n",
    "}\n",
    "\n",
    "fun printProduct(arg1: String, arg2: String) {\n",
    "    val x = parseInt(arg1)\n",
    "    val y = parseInt(arg2)\n",
    "\n",
    "    // 直接使用 `x * y` 会导致编译错误，因为它们可能为 null\n",
    "    if (x != null && y != null) {\n",
    "        // 在空检测后，x 与 y 会自动转换为非空值（non-nullable）\n",
    "        println(x * y)\n",
    "    }\n",
    "    else {\n",
    "        println(\"'$arg1' or '$arg2' is not a number\")\n",
    "    }    \n",
    "}\n",
    "\n",
    "printProduct(\"6\", \"7\")\n",
    "printProduct(\"a\", \"7\")\n",
    "printProduct(\"a\", \"b\")"
   ]
  },
  {
   "cell_type": "markdown",
   "metadata": {},
   "source": [
    "### 类型检测与自动类型转换\n",
    "is 运算符检测一个表达式是否某类型的一个实例。 如果一个不可变的局部变量或属性已经判断出为某类型，那么检测后的分支中可以直接当作该类型使用，无需显式转换："
   ]
  },
  {
   "cell_type": "code",
   "execution_count": null,
   "metadata": {},
   "outputs": [],
   "source": [
    "fun getStringLength(obj: Any): Int? {\n",
    "    if (obj is String) {\n",
    "        // `obj` 在该条件分支内自动转换成 `String`\n",
    "        return obj.length\n",
    "    }\n",
    "\n",
    "    // 在离开类型检测分支后，`obj` 仍然是 `Any` 类型\n",
    "    return null\n",
    "}\n",
    "\n",
    "fun printLength(obj: Any) {\n",
    "    println(\"'$obj' string length is ${getStringLength(obj) ?: \"... err, not a string\"} \")\n",
    "}\n",
    "printLength(\"Incomprehensibilities\")\n",
    "printLength(1000)\n",
    "printLength(listOf(Any()))"
   ]
  },
  {
   "cell_type": "markdown",
   "metadata": {},
   "source": [
    "或者"
   ]
  },
  {
   "cell_type": "code",
   "execution_count": null,
   "metadata": {},
   "outputs": [],
   "source": [
    "fun getStringLength(obj: Any): Int? {\n",
    "    if (obj !is String) return null\n",
    "\n",
    "    // `obj` 在这一分支自动转换为 `String`\n",
    "    return obj.length\n",
    "}\n",
    "\n",
    "fun printLength(obj: Any) {\n",
    "    println(\"'$obj' string length is ${getStringLength(obj) ?: \"... err, not a string\"} \")\n",
    "}\n",
    "printLength(\"Incomprehensibilities\")\n",
    "printLength(1000)\n",
    "printLength(listOf(Any()))"
   ]
  },
  {
   "cell_type": "markdown",
   "metadata": {},
   "source": [
    "甚至"
   ]
  },
  {
   "cell_type": "code",
   "execution_count": null,
   "metadata": {},
   "outputs": [],
   "source": [
    "fun getStringLength(obj: Any): Int? {\n",
    "    // `obj` 在 `&&` 右边自动转换成 `String` 类型\n",
    "    if (obj is String && obj.length > 0) {\n",
    "      return obj.length\n",
    "    }\n",
    "\n",
    "    return null\n",
    "}\n",
    "\n",
    "fun printLength(obj: Any) {\n",
    "    println(\"'$obj' string length is ${getStringLength(obj) ?: \"... err, is empty or not a string at all\"} \")\n",
    "}\n",
    "printLength(\"Incomprehensibilities\")\n",
    "printLength(\"\")\n",
    "printLength(1000)"
   ]
  },
  {
   "cell_type": "markdown",
   "metadata": {},
   "source": [
    "### for 循环"
   ]
  },
  {
   "cell_type": "code",
   "execution_count": null,
   "metadata": {},
   "outputs": [],
   "source": [
    "val items = listOf(\"apple\", \"banana\", \"kiwifruit\")\n",
    "for (item in items) {\n",
    "    println(item)\n",
    "}"
   ]
  },
  {
   "cell_type": "markdown",
   "metadata": {},
   "source": [
    "或者"
   ]
  },
  {
   "cell_type": "code",
   "execution_count": null,
   "metadata": {},
   "outputs": [],
   "source": [
    "val items = listOf(\"apple\", \"banana\", \"kiwifruit\")\n",
    "for (index in items.indices) {\n",
    "    println(\"item at $index is ${items[index]}\")\n",
    "}"
   ]
  },
  {
   "cell_type": "markdown",
   "metadata": {},
   "source": [
    "### while 循环"
   ]
  },
  {
   "cell_type": "code",
   "execution_count": null,
   "metadata": {},
   "outputs": [],
   "source": [
    "val items = listOf(\"apple\", \"banana\", \"kiwifruit\")\n",
    "var index = 0\n",
    "while (index < items.size) {\n",
    "    println(\"item at $index is ${items[index]}\")\n",
    "    index++\n",
    "}"
   ]
  },
  {
   "cell_type": "markdown",
   "metadata": {},
   "source": [
    "### when 表达式"
   ]
  },
  {
   "cell_type": "code",
   "execution_count": null,
   "metadata": {},
   "outputs": [],
   "source": [
    "fun describe(obj: Any): String =\n",
    "    when (obj) {\n",
    "        1          -> \"One\"\n",
    "        \"Hello\"    -> \"Greeting\"\n",
    "        is Long    -> \"Long\"\n",
    "        !is String -> \"Not a string\"\n",
    "        else       -> \"Unknown\"\n",
    "    }\n",
    "\n",
    "println(describe(1))\n",
    "println(describe(\"Hello\"))\n",
    "println(describe(1000L))\n",
    "println(describe(2))\n",
    "println(describe(\"other\"))"
   ]
  },
  {
   "cell_type": "markdown",
   "metadata": {},
   "source": [
    "### 使用区间（range）\n",
    "使用 in 运算符来检测某个数字是否在指定区间内："
   ]
  },
  {
   "cell_type": "code",
   "execution_count": null,
   "metadata": {},
   "outputs": [],
   "source": [
    "val x = 10\n",
    "val y = 9\n",
    "if (x in 1..y+1) {\n",
    "    println(\"fits in range\")\n",
    "}"
   ]
  },
  {
   "cell_type": "markdown",
   "metadata": {},
   "source": [
    "检测某个数字是否在指定区间外:"
   ]
  },
  {
   "cell_type": "code",
   "execution_count": null,
   "metadata": {},
   "outputs": [],
   "source": [
    "val list = listOf(\"a\", \"b\", \"c\")\n",
    "\n",
    "if (-1 !in 0..list.lastIndex) {\n",
    "    println(\"-1 is out of range\")\n",
    "}\n",
    "if (list.size !in list.indices) {\n",
    "    println(\"list size is out of valid list indices range, too\")\n",
    "}"
   ]
  },
  {
   "cell_type": "markdown",
   "metadata": {},
   "source": [
    "区间迭代:"
   ]
  },
  {
   "cell_type": "code",
   "execution_count": null,
   "metadata": {},
   "outputs": [],
   "source": [
    "for (x in 1..5) {\n",
    "    print(x)\n",
    "}"
   ]
  },
  {
   "cell_type": "markdown",
   "metadata": {},
   "source": [
    "或数列迭代："
   ]
  },
  {
   "cell_type": "code",
   "execution_count": null,
   "metadata": {},
   "outputs": [],
   "source": [
    "for (x in 1..10 step 2) {\n",
    "    print(x)\n",
    "}\n",
    "println()\n",
    "for (x in 9 downTo 0 step 3) {\n",
    "    print(x)\n",
    "}"
   ]
  },
  {
   "cell_type": "markdown",
   "metadata": {},
   "source": [
    "### Collections\n",
    "对集合进行迭代:"
   ]
  },
  {
   "cell_type": "code",
   "execution_count": null,
   "metadata": {},
   "outputs": [],
   "source": [
    "val items = listOf(\"apple\", \"banana\", \"kiwifruit\")\n",
    "for (item in items) {\n",
    "    println(item)\n",
    "}"
   ]
  },
  {
   "cell_type": "markdown",
   "metadata": {},
   "source": [
    "使用 in 运算符来判断集合内是否包含某实例："
   ]
  },
  {
   "cell_type": "code",
   "execution_count": null,
   "metadata": {},
   "outputs": [],
   "source": [
    "val items = setOf(\"apple\", \"banana\", \"kiwifruit\")\n",
    "when {\n",
    "    \"orange\" in items -> println(\"juicy\")\n",
    "    \"apple\" in items -> println(\"apple is fine too\")\n",
    "}"
   ]
  },
  {
   "cell_type": "markdown",
   "metadata": {},
   "source": [
    "使用 lambda 表达式来过滤（filter）与映射（map）集合："
   ]
  },
  {
   "cell_type": "code",
   "execution_count": null,
   "metadata": {},
   "outputs": [],
   "source": [
    "val fruits = listOf(\"banana\", \"avocado\", \"apple\", \"kiwifruit\")\n",
    "  fruits\n",
    "    .filter { it.startsWith(\"a\") }\n",
    "    .sortedBy { it }\n",
    "    .map { it.toUpperCase() }\n",
    "    .forEach { println(it) }"
   ]
  },
  {
   "cell_type": "markdown",
   "metadata": {},
   "source": [
    "---\n",
    "## Kotlin中的类和对象"
   ]
  },
  {
   "cell_type": "code",
   "execution_count": null,
   "metadata": {},
   "outputs": [],
   "source": [
    "abstract class Shape(val sides: List<Double>) {\n",
    "    val perimeter: Double get() = sides.sum()\n",
    "    abstract fun calculateArea(): Double\n",
    "}\n",
    "\n",
    "interface RectangleProperties {\n",
    "    val isSquare: Boolean\n",
    "}\n",
    "\n",
    "class Rectangle(\n",
    "    var height: Double,\n",
    "    var length: Double\n",
    ") : Shape(listOf(height, length, height, length)), RectangleProperties {\n",
    "    override val isSquare: Boolean get() = length == height\n",
    "    override fun calculateArea(): Double = height * length\n",
    "}\n",
    "\n",
    "class Triangle(\n",
    "    var sideA: Double,\n",
    "    var sideB: Double,\n",
    "    var sideC: Double\n",
    ") : Shape(listOf(sideA, sideB, sideC)) {\n",
    "    override fun calculateArea(): Double {\n",
    "        val s = perimeter / 2\n",
    "        return Math.sqrt(s * (s - sideA) * (s - sideB) * (s - sideC))\n",
    "    }\n",
    "}\n",
    "\n",
    "\n",
    "val rectangle = Rectangle(5.0, 2.0)\n",
    "val triangle = Triangle(3.0, 4.0, 5.0)\n",
    "println(\"Area of rectangle is ${rectangle.calculateArea()}, its perimeter is ${rectangle.perimeter}\")\n",
    "println(\"Area of triangle is ${triangle.calculateArea()}, its perimeter is ${triangle.perimeter}\")"
   ]
  },
  {
   "cell_type": "markdown",
   "metadata": {},
   "source": [
    "### 接口\n",
    "\n",
    "Kotlin 的接口可以既包含抽象方法的声明也包含实现。与抽象类不同的是，接口无法保存状态。它可以有属性但必须声明为抽象或提供访问器实现。\n",
    "\n",
    "#### 接口定义\n",
    "使用关键字 interface 来定义接口"
   ]
  },
  {
   "cell_type": "code",
   "execution_count": null,
   "metadata": {},
   "outputs": [],
   "source": [
    "interface MyInterface {\n",
    "    fun bar()\n",
    "    fun foo() {\n",
    "      // 可选的方法体\n",
    "    }\n",
    "}"
   ]
  },
  {
   "cell_type": "markdown",
   "metadata": {},
   "source": [
    "#### 接口实现\n",
    "一个类或者对象可以实现一个或多个接口。"
   ]
  },
  {
   "cell_type": "code",
   "execution_count": null,
   "metadata": {},
   "outputs": [],
   "source": [
    "class Child : MyInterface {\n",
    "    override fun bar() {\n",
    "        // 方法体\n",
    "    }\n",
    "}"
   ]
  },
  {
   "cell_type": "markdown",
   "metadata": {},
   "source": [
    "#### 接口中的属性\n",
    "你可以在接口中定义属性。在接口中声明的属性要么是抽象的，要么提供访问器的实现。在接口中声明的属性不能有支持字段(幕后字段 backing field），因此接口中声明的访问器不能引用它们。"
   ]
  },
  {
   "cell_type": "code",
   "execution_count": null,
   "metadata": {},
   "outputs": [],
   "source": [
    "interface MyInterface {\n",
    "    val prop: Int // 抽象的\n",
    "\n",
    "    val propertyWithImplementation: String\n",
    "        get() = \"foo\"\n",
    "\n",
    "    fun foo() {\n",
    "        print(prop)\n",
    "    }\n",
    "}\n",
    "\n",
    "class Child : MyInterface {\n",
    "    override val prop: Int = 29\n",
    "}"
   ]
  },
  {
   "cell_type": "markdown",
   "metadata": {},
   "source": [
    "#### 接口继承\n",
    "一个接口可以从其他接口派生，从而既提供基类型成员的实现也声明新的函数与属性。很自然地，实现这样接口的类只需定义所缺少的实现："
   ]
  },
  {
   "cell_type": "code",
   "execution_count": null,
   "metadata": {},
   "outputs": [],
   "source": [
    "interface Named {\n",
    "    val name: String\n",
    "}\n",
    "\n",
    "interface Person : Named {\n",
    "    val firstName: String\n",
    "    val lastName: String\n",
    "    \n",
    "    override val name: String get() = \"$firstName $lastName\"\n",
    "}\n",
    "\n",
    "data class Employee(\n",
    "    // 不必实现“name”\n",
    "    override val firstName: String,\n",
    "    override val lastName: String,\n",
    "    val position: Position\n",
    ") : Person"
   ]
  },
  {
   "cell_type": "markdown",
   "metadata": {},
   "source": [
    "#### 解决覆盖冲突\n",
    "实现多个接口时，可能会遇到同一方法继承多个实现的问题。例如"
   ]
  },
  {
   "cell_type": "code",
   "execution_count": null,
   "metadata": {},
   "outputs": [],
   "source": [
    "interface A {\n",
    "    fun foo() { print(\"A\") }\n",
    "    fun bar()\n",
    "}\n",
    "\n",
    "interface B {\n",
    "    fun foo() { print(\"B\") }\n",
    "    fun bar() { print(\"bar\") }\n",
    "}\n",
    "\n",
    "class C : A {\n",
    "    override fun bar() { print(\"bar\") }\n",
    "}\n",
    "\n",
    "class D : A, B {\n",
    "    override fun foo() {\n",
    "        super<A>.foo()\n",
    "        super<B>.foo()\n",
    "    }\n",
    "\n",
    "    override fun bar() {\n",
    "        super<B>.bar()\n",
    "    }\n",
    "}"
   ]
  },
  {
   "cell_type": "markdown",
   "metadata": {},
   "source": [
    "上例中，接口 A 和 B 都定义了方法 foo() 和 bar()。 两者都实现了 foo(), 但是只有 B 实现了 bar() (bar() 在 A 中没有标记为抽象， 因为没有方法体时默认为抽象）。因为 C 是一个实现了 A 的具体类，所以必须要重写 bar() 并实现这个抽象方法。\n",
    "\n",
    "然而，如果我们从 A 和 B 派生 D，我们需要实现我们从多个接口继承的所有方法，并指明 D 应该如何实现它们。这一规则既适用于继承单个实现（bar()）的方法也适用于继承多个实现（foo()）的方法。"
   ]
  },
  {
   "cell_type": "markdown",
   "metadata": {},
   "source": [
    "### 访问修饰符\n",
    "Kotlin中的类，默认为final, 如果想允许创建一个类的子类，需要使用open修饰符来标示这个类。此外，需要给每一个可以被重写的属性或者方法添加open修饰符。"
   ]
  },
  {
   "cell_type": "code",
   "execution_count": null,
   "metadata": {},
   "outputs": [],
   "source": [
    "open class RichButton : Clickable {\n",
    "    fun disable() {}\n",
    "    \n",
    "    open fun animate() {}\n",
    "    \n",
    "    override fun click() {}\n",
    "}"
   ]
  },
  {
   "cell_type": "markdown",
   "metadata": {},
   "source": [
    "如果重写了一个基类或者接口的成员，重写的成员默认是open的。为了阻止子类重写，可显式地将重写的成员标注为final。"
   ]
  },
  {
   "cell_type": "code",
   "execution_count": null,
   "metadata": {},
   "outputs": [],
   "source": [
    "open class RichButton : Clickable {\n",
    "    final override fun click() {}\n",
    "}"
   ]
  },
  {
   "cell_type": "markdown",
   "metadata": {},
   "source": [
    "|修饰符|相关成员|评注|\n",
    "|:---|:---|:---|\n",
    "|final|不能被重写|类中成员默认使用|\n",
    "|open|可以被重写|需要明确地表明|\n",
    "|abstract|必须被重写|只能在抽象类中使用；抽象成员不能有实现|\n",
    "|override|重写父类或接口中的成员|如果没有使用final表明，重写的成员默认是开放的|"
   ]
  },
  {
   "cell_type": "markdown",
   "metadata": {},
   "source": [
    "### 可见性修饰符\n",
    "* 与Java中的类似。同样可以使用public、protected和private修饰符。但是默认的可见性是不一样的：如果省略了修饰符，声明就是public的。<br>\n",
    "* Kotlin中没有package-private可见性。<br>\n",
    "* Kotlin提供了一个新的修饰符：internal，表示\"只在模块内部可见\"。<br>\n",
    "* 与Java不同，Kotlin中的protected成员只在类和它的子类中可见。<br>\n",
    "* 类的扩展函数不能访问它的private和protected成员。"
   ]
  },
  {
   "cell_type": "markdown",
   "metadata": {},
   "source": [
    "|修饰符|类成员|顶层声明|\n",
    "|:---|:---|:---|\n",
    "|public(默认)|所有地方可见|所有地方可见|\n",
    "|internal|模块中可见|模块中可见|\n",
    "|protected|子类中可见|N/A|\n",
    "|private|类中可见|文件中可见|"
   ]
  },
  {
   "cell_type": "markdown",
   "metadata": {},
   "source": [
    "### 主构造方法和初始化代码块\n",
    "声明一个简单类：\n",
    "```\n",
    "class User(val nickname: String)\n",
    "```\n",
    "被括号围起来的代码块叫作**主构造方法**\n",
    "\n",
    "主构造方法用途：\n",
    "* 表明构造方法的参数\n",
    "* 定义使用这些参数初始化的属性\n",
    "\n",
    "完成同样的事情的最明确的代码："
   ]
  },
  {
   "cell_type": "code",
   "execution_count": null,
   "metadata": {},
   "outputs": [],
   "source": [
    "class User constructor(_nickname: String) {    //带一个参数的主构造方法\n",
    "    val nickname: String\n",
    "    \n",
    "    init {                      // 初始化代码块\n",
    "        nickname = _nickname\n",
    "    }\n",
    "}"
   ]
  },
  {
   "cell_type": "markdown",
   "metadata": {},
   "source": [
    "除了给属性赋值外，没有其它的初始化代码，可以去掉init代码块，将属性赋值与属性声明结合。如果主构造方法没有注解或者可见性修饰符，也可以去掉constructor关键字"
   ]
  },
  {
   "cell_type": "code",
   "execution_count": null,
   "metadata": {},
   "outputs": [],
   "source": [
    "class User(_nickname: String) {\n",
    "    val nickname = _nickname\n",
    "}"
   ]
  },
  {
   "cell_type": "markdown",
   "metadata": {},
   "source": [
    "如果属性用相应的构造方法参数来初始化，可以进一步简化"
   ]
  },
  {
   "cell_type": "code",
   "execution_count": null,
   "metadata": {},
   "outputs": [],
   "source": [
    "class User(val nickname: String)"
   ]
  },
  {
   "cell_type": "markdown",
   "metadata": {},
   "source": [
    "可以像函数参数一样为构造方法参数声明默认值："
   ]
  },
  {
   "cell_type": "code",
   "execution_count": null,
   "metadata": {},
   "outputs": [],
   "source": [
    "class User(val nickname: String, val isSubscribed: Boolean = true)\n",
    "\n",
    "val alice = User(\"Alice\")\n",
    "println(alice.isSubscribed)\n",
    "val bob = User(\"Bob\", false)\n",
    "println(bob.isSubscribed)\n",
    "\n",
    "val carol = User(\"Carol\", isSubscribed = false)\n",
    "println(carol.isSubscribed)"
   ]
  },
  {
   "cell_type": "markdown",
   "metadata": {},
   "source": [
    "如果类有一个父类，主构造方法需要初始化父类。"
   ]
  },
  {
   "cell_type": "code",
   "execution_count": null,
   "metadata": {},
   "outputs": [],
   "source": [
    "open class User(val nickname: String)\n",
    "\n",
    "class TwitterUser(val nickname: String) : User(nickname)"
   ]
  },
  {
   "cell_type": "markdown",
   "metadata": {},
   "source": [
    "如果没有给一个类声明任何构造方法，会生成一个默认构造方法"
   ]
  },
  {
   "cell_type": "code",
   "execution_count": null,
   "metadata": {},
   "outputs": [],
   "source": [
    "open class Button"
   ]
  },
  {
   "cell_type": "markdown",
   "metadata": {},
   "source": [
    "如果继承了Button类且没有提供任何构造方法，必须显式地调用父类的构造方法。"
   ]
  },
  {
   "cell_type": "code",
   "execution_count": null,
   "metadata": {},
   "outputs": [],
   "source": [
    "class RadioButton: Button()"
   ]
  },
  {
   "cell_type": "markdown",
   "metadata": {},
   "source": [
    "接口没有构造方法，实现接口时，不需要在父类型列表中它的名称后加括号。"
   ]
  },
  {
   "cell_type": "markdown",
   "metadata": {},
   "source": [
    "私有构造方法:"
   ]
  },
  {
   "cell_type": "code",
   "execution_count": null,
   "metadata": {},
   "outputs": [],
   "source": [
    "class Secretive private constructor() {}"
   ]
  },
  {
   "cell_type": "markdown",
   "metadata": {},
   "source": [
    "在Java中，将构造方法私有化，有两种情况：\n",
    "1. 这个类是一个静态工具类\n",
    "2. 这个类是单例\n",
    "\n",
    "在Kotlin中，这两种情况可分别使用：\n",
    "1. 顶层函数\n",
    "2. 对象声明"
   ]
  },
  {
   "cell_type": "markdown",
   "metadata": {},
   "source": [
    "### 从构造方法\n",
    "大多数Java中需要重载构造方法的场景由Kotlin支持参数默认值和参数命名的语法涵盖。\n",
    "\n",
    "Kotlin仍支持定义多个构造方法。"
   ]
  },
  {
   "cell_type": "code",
   "execution_count": null,
   "metadata": {},
   "outputs": [],
   "source": [
    "open class View {\n",
    "    constructor(ctx: Context) {\n",
    "        // some code\n",
    "    }\n",
    "    constructor(ctx: Context, attr: AttributeSet) {\n",
    "        // some code\n",
    "    }\n",
    "}"
   ]
  },
  {
   "cell_type": "markdown",
   "metadata": {},
   "source": [
    "子类可以声明同样的构造方法，在声明时需要调用父类构造方法。\n",
    "```\n",
    "class MyButton: View {\n",
    "    constructor(ctx: Context) : super(ctx) {\n",
    "        // ...\n",
    "    }\n",
    "    constructor(ctx: Context, attr: AttributeSet) : super(ctx, attr) {\n",
    "        // ...\n",
    "    }\n",
    "}\n",
    "```"
   ]
  },
  {
   "cell_type": "markdown",
   "metadata": {},
   "source": [
    "也可以使用this()调用自己类中的另一个构造方法\n",
    "```\n",
    "class MyButton: View {\n",
    "    constructor(ctx: Context) : this(ctx, MY_STYLE) {\n",
    "        // ...\n",
    "    }\n",
    "    constructor(ctx: Context, attr: AttributeSet) : super(ctx, attr) {\n",
    "        // ...\n",
    "    }\n",
    "}\n",
    "```"
   ]
  },
  {
   "cell_type": "markdown",
   "metadata": {},
   "source": [
    "如果类没有主构造方法，那么每个从构造方法必须初始化基类或者委托给另一个这样做的构造方法。\n",
    "### getter / setter"
   ]
  },
  {
   "cell_type": "code",
   "execution_count": null,
   "metadata": {},
   "outputs": [],
   "source": [
    "class Rectangle(val height: Int, val width: Int) {\n",
    "    val isSquare: Boolean\n",
    "        get() {\n",
    "            return height == width\n",
    "        }\n",
    "}\n",
    "\n",
    "val rectangle = Rectangle(41, 43)\n",
    "println(rectangle.isSquare)"
   ]
  },
  {
   "cell_type": "markdown",
   "metadata": {},
   "source": [
    "通过setter，可以为属性值被修改时提供额外逻辑。在访问器中，通过支持字段(幕后字段 Backing Fields)对属性进行修改"
   ]
  },
  {
   "cell_type": "code",
   "execution_count": null,
   "metadata": {},
   "outputs": [],
   "source": [
    "class User(val name: String) {\n",
    "    var address: String = \"unspecified\"\n",
    "        set(value: String) {\n",
    "            println(\"\"\"\n",
    "               Address was changed for $name:\n",
    "               \"$field\" -> \"$value\".\"\"\".trimIndent())    // 读取支持字段field的值\n",
    "            field = value\n",
    "        }\n",
    "}\n",
    "\n",
    "val user = User(\"Alice\")\n",
    "user.address = \"Elsenheimerstrasse 47, 80687 Muenchen\""
   ]
  },
  {
   "cell_type": "markdown",
   "metadata": {},
   "source": [
    "getter/setter的可见性默认与属性的可见性相同。如果需要可以在get和set关键字前增加可见性修饰符来修改。"
   ]
  },
  {
   "cell_type": "code",
   "execution_count": null,
   "metadata": {},
   "outputs": [],
   "source": [
    "class LengthCounter {\n",
    "    var counter: Int = 0\n",
    "        private set\n",
    "    \n",
    "    fun addWord(word: String) {\n",
    "        counter += word.length\n",
    "    }\n",
    "}\n",
    "\n",
    "val lengthCounter = LengthCounter()\n",
    "lengthCounter.addWord(\"Hi!\")\n",
    "println(lengthCounter.counter)"
   ]
  },
  {
   "cell_type": "markdown",
   "metadata": {},
   "source": [
    "### 内部类和嵌套类\n",
    "像Java一样，在Kotlin中可以在另一个类中声明一个类。这样做在封装一个辅助类或者把一些代码放到靠近它被使用的地方时非常有用。区别是Kotlin的嵌套类不能访问外部类的实例"
   ]
  },
  {
   "cell_type": "code",
   "execution_count": null,
   "metadata": {},
   "outputs": [],
   "source": [
    "class Outer {\n",
    "    private val bar: Int = 1\n",
    "    class Nested {\n",
    "        fun foo() = 2\n",
    "    }\n",
    "}\n",
    "\n",
    "val demo = Outer.Nested().foo() // == 2\n",
    "println(demo)"
   ]
  },
  {
   "cell_type": "markdown",
   "metadata": {},
   "source": [
    "标记为 inner 的嵌套类能够访问其外部类的成员，被称为内部类。内部类会带有一个对外部类的对象的引用："
   ]
  },
  {
   "cell_type": "code",
   "execution_count": null,
   "metadata": {},
   "outputs": [],
   "source": [
    "class Outer {\n",
    "    private val bar: Int = 1\n",
    "    inner class Inner {\n",
    "        fun foo() = bar\n",
    "    }\n",
    "}\n",
    "\n",
    "val demo = Outer().Inner().foo() // == 1\n",
    "println(demo)"
   ]
  },
  {
   "cell_type": "markdown",
   "metadata": {},
   "source": [
    "### 类委托\n",
    "常用设计模式之一：装饰器模式，本质是创建一个新类，实现与原始类一样的接口并将原来的类的实例作为一个字段保存。与原始类拥有同样行为的方法不用被修改，只需要直接转发到原始类的实例。装饰器模式可以为没有设计为可扩展的类添加行为。\n",
    "\n",
    "实现一个Collection接口的装饰器："
   ]
  },
  {
   "cell_type": "code",
   "execution_count": null,
   "metadata": {},
   "outputs": [],
   "source": [
    "class DelegatingCollection<T> : Collection<T> {\n",
    "    private val innerList = arrayListOf<T>()\n",
    "    \n",
    "    override val size: Int get() = innerList.size\n",
    "    override fun isEmpty(): Boolean = innerList.isEmpty()\n",
    "    override fun contains(element: T): Boolean = innerList.contains(element)\n",
    "    override fun iterator(): Iterator<T> = innerList.iterator()\n",
    "    override fun containsAll(element: Collection<T>): Boolean = innerList.containsAll(elements)\n",
    "}"
   ]
  },
  {
   "cell_type": "markdown",
   "metadata": {},
   "source": [
    "Kotlin将委托作为一个语言级别的功能做了头等支持。可以使用by关键字将接口的实现委托到另一个对象。"
   ]
  },
  {
   "cell_type": "code",
   "execution_count": null,
   "metadata": {},
   "outputs": [],
   "source": [
    "class DelegatingCollection<T>(val innerList: Collection<T> = ArrayList<T>()): Collection<T> by innerList {}"
   ]
  },
  {
   "cell_type": "markdown",
   "metadata": {},
   "source": [
    "需要修改某些方法的行为时，可以重写它们，重写的方法会被调用。"
   ]
  },
  {
   "cell_type": "code",
   "execution_count": null,
   "metadata": {},
   "outputs": [],
   "source": [
    "class CountingSet<T>(val innerSet: MutableCollection<T> = HashSet<T>()\n",
    ") : MutableCollection<T> by innerSet {\n",
    "    \n",
    "    var objectsAdded = 0\n",
    "    \n",
    "    override fun add(element: T): Boolean {\n",
    "        objectsAdded++\n",
    "        return innerSet.add(element)\n",
    "    }\n",
    "    \n",
    "    override fun addAll(c: Collection<T>): Boolean {\n",
    "        objectsAdded += c.size\n",
    "        return innerSet.addAll(c)\n",
    "    }\n",
    "}\n",
    "\n",
    "val cset = CountingSet<Int>()\n",
    "cset.addAll(listOf(1, 1, 2))\n",
    "println(\"${cset.objectsAdded} objects were added, ${cset.size} remain\")"
   ]
  },
  {
   "cell_type": "markdown",
   "metadata": {},
   "source": [
    "### \"object\"关键字\n",
    "object关键字在多种情况下出现，用于定义一个类并同时创建一个实例。其使用场景有：\n",
    "* 对象声明是定义单例的一种方式\n",
    "* 伴生对象可以持有工厂方法和其他与这个类相关，但在调用时并不依赖类实例的方法。它们的成员可以通过类名来访问。\n",
    "* 对象表达式用来替代Java的匿名内部类\n",
    "\n",
    "#### 对象声明\n",
    "Kotlin通过使用对象声明功能支持单例模式的实现。"
   ]
  },
  {
   "cell_type": "code",
   "execution_count": null,
   "metadata": {},
   "outputs": [],
   "source": [
    "import java.io.File\n",
    "object CaseInsensitiveFileComparator : Comparator<File> {\n",
    "    override fun compare(file1: File, file2: File): Int {\n",
    "        return file1.path.compareTo(file2.path, ignoreCase = true)\n",
    "    }\n",
    "}\n",
    "\n",
    "println(CaseInsensitiveFileComparator.compare(File(\"/User\"), File(\"/user\")))"
   ]
  },
  {
   "cell_type": "markdown",
   "metadata": {},
   "source": [
    "与类一样，一个对象声明也可以包含属性、方法、初始化代码块等声明，但不允许构造方法（包括主构造方法和从构造方法）\n",
    "\n",
    "Kotlin中的对象声明被编译成了通过静态字段来持有它的单一实例的类，这个字段名字始终都是INSTANCE。要从Java代码使用Kotlin对象，可以通过访问静态的INSTANCE字段：\n",
    "```\n",
    "/* Java */\n",
    "CaseInsensitiveFileComparator.INSTANCE.compare(file1, file2);\n",
    "```"
   ]
  },
  {
   "cell_type": "markdown",
   "metadata": {},
   "source": [
    "#### 伴生对象\n",
    "Kotlin中的类不能拥有静态成员，Java的static关键字并不是Kotlin的一部分。作为替代，Kotlin依赖顶层函数和对象声明。大多数情况下推荐使用项层函数。但是顶层函数不能访问类的private成员。这时需要写一个可以在没有类实例的情况下调用但是需要访问类内部的函数，这个函数需要是类中的对象声明的成员，这个类中的对象声明即是伴生对象。伴生对象通过使用特殊的关键字companion来标记。可以直接通过容器类名称来访问伴生对象的方法和属性，而不需要显式地指明对象的名称。"
   ]
  },
  {
   "cell_type": "code",
   "execution_count": null,
   "metadata": {},
   "outputs": [],
   "source": [
    "class User private constructor(val nickname: String) {\n",
    "    companion object {\n",
    "        fun newSubscribingUser(email: String) = User(email.substringBefore('@'))\n",
    "        \n",
    "        fun newFacebookUser(accountId: Int) = User(\"facebookuser${accountId}\")\n",
    "    }\n",
    "}\n",
    "\n",
    "val subscribingUser = User.newSubscribingUser(\"bob@gmail.com\")\n",
    "val facebookUser = User.newFacebookUser(4)\n",
    "\n",
    "println(subscribingUser.nickname)\n",
    "println(facebookUser.nickname)"
   ]
  },
  {
   "cell_type": "markdown",
   "metadata": {},
   "source": [
    "如果伴生对象没有命名，在Java代码中它可以通过Companion引用来访问：\n",
    "```\n",
    "/* Java */\n",
    "Person.Companion.fromJSON(\"...\");\n",
    "```\n",
    "如果伴生对象有名字，那就用这个名字替代Companion"
   ]
  },
  {
   "cell_type": "markdown",
   "metadata": {},
   "source": [
    "#### 对象表达式\n",
    "object关键字不仅能用来声明单例式的对象，还能用来声明匿名对象。匿名对象替代了Java中匿名内部类的用法。"
   ]
  },
  {
   "cell_type": "code",
   "execution_count": null,
   "metadata": {},
   "outputs": [],
   "source": [
    "interface OnClickListener {\n",
    "    fun onClick(v: View)\n",
    "}\n",
    "class View {\n",
    "    var onClickListener : OnClickListener? = null\n",
    "    \n",
    "    fun performClick() {\n",
    "        onClickListener?.onClick(this)\n",
    "    }\n",
    "}\n",
    "\n",
    "val view = View()\n",
    "view.onClickListener = object : OnClickListener {\n",
    "    override fun onClick(v: View) {\n",
    "        println(\"view is clicked\");\n",
    "    }\n",
    "}\n",
    "view.performClick()"
   ]
  },
  {
   "cell_type": "markdown",
   "metadata": {},
   "source": [
    "与Java的匿名内部类只能扩展一个类或实现一个接口不同，Kotlin的匿名对象可以实现多个接口。\n",
    "\n",
    "对象表达式中的代码可以访问创建它的函数中的变量，且可以访问非final的变量。"
   ]
  },
  {
   "cell_type": "markdown",
   "metadata": {},
   "source": [
    "---\n",
    "## Lambda编程\n",
    "### Lambda表达式\n",
    "Lambda表达式，或简称lambda，本质上就是可以传递给其他函数的一小段代码。\n",
    "\n",
    "#### Lambda表达式完整语法："
   ]
  },
  {
   "cell_type": "code",
   "execution_count": null,
   "metadata": {},
   "outputs": [],
   "source": [
    "val sum: (Int, Int) -> Int = { x: Int, y: Int -> x + y }"
   ]
  },
  {
   "cell_type": "markdown",
   "metadata": {},
   "source": [
    "lambda 表达式总是括在花括号中， 完整语法形式的参数声明放在花括号内，并有可选的类型标注， 函数体跟在一个 -> 符号之后。如果推断出的该 lambda 的返回类型不是 Unit，那么该 lambda 主体中的最后一个（或可能是单个）表达式会视为返回值。\n",
    "\n",
    "lambda表达式可以直接调用："
   ]
  },
  {
   "cell_type": "code",
   "execution_count": null,
   "metadata": {},
   "outputs": [],
   "source": [
    "{ println(42) }()"
   ]
  },
  {
   "cell_type": "markdown",
   "metadata": {},
   "source": [
    "将 lambda 表达式传给最后一个参数\n",
    "在 Kotlin 中有一个约定：如果函数的最后一个参数是函数，那么作为相应参数传入的 lambda 表达式可以放在圆括号之外："
   ]
  },
  {
   "cell_type": "code",
   "execution_count": null,
   "metadata": {},
   "outputs": [],
   "source": [
    "data class Person(val name: String, val age: Int)\n",
    "\n",
    "val people = listOf(Person(\"Alice\", 29), Person(\"Bob\", 31))\n",
    "people.maxBy() { p: Person -> p.age }"
   ]
  },
  {
   "cell_type": "markdown",
   "metadata": {},
   "source": [
    "当lambda是函数唯一的实参时，还可以去掉调用代码中的空括号对："
   ]
  },
  {
   "cell_type": "code",
   "execution_count": null,
   "metadata": {},
   "outputs": [],
   "source": [
    "people.maxBy { p: Person -> p.age }"
   ]
  },
  {
   "cell_type": "markdown",
   "metadata": {},
   "source": [
    "和局部变量一样，如果lambda参数的类型可以被推导出来，就不需要显式地指定它。"
   ]
  },
  {
   "cell_type": "code",
   "execution_count": null,
   "metadata": {},
   "outputs": [],
   "source": [
    "people.maxBy { p -> p.age }"
   ]
  },
  {
   "cell_type": "markdown",
   "metadata": {},
   "source": [
    "如果当前上下文期望的是只有一个参数的lambda且这个参数类型可以推断出来，可以使用默认参数名称it代替命名参数。"
   ]
  },
  {
   "cell_type": "code",
   "execution_count": null,
   "metadata": {},
   "outputs": [],
   "source": [
    "people.maxBy { it.age }"
   ]
  },
  {
   "cell_type": "markdown",
   "metadata": {},
   "source": [
    "可通过**成员引用**创建一个调用单个方法或者访问单个属性的函数值。"
   ]
  },
  {
   "cell_type": "code",
   "execution_count": null,
   "metadata": {},
   "outputs": [],
   "source": [
    "people.maxBy(Person::age)"
   ]
  },
  {
   "cell_type": "markdown",
   "metadata": {},
   "source": [
    "### 高阶函数\n",
    "高阶函数是以另一个函数作为参数或者返回值的函数\n",
    "\n",
    "函数作为参数时，其类型被称为**函数类型**，函数类型语法："
   ]
  },
  {
   "cell_type": "code",
   "execution_count": null,
   "metadata": {},
   "outputs": [],
   "source": [
    "(Int, String) -> Unit"
   ]
  },
  {
   "cell_type": "markdown",
   "metadata": {},
   "source": [
    "定义一个简单高阶函数"
   ]
  },
  {
   "cell_type": "code",
   "execution_count": null,
   "metadata": {},
   "outputs": [],
   "source": [
    "fun twoAndThree(operation: (Int, Int) -> Int) {\n",
    "   val result = operation(2, 3)\n",
    "   println(\"The result is $result\")\n",
    "}\n",
    "twoAndThree { a, b -> a + b}\n",
    "twoAndThree { a, b -> a * b}"
   ]
  },
  {
   "cell_type": "markdown",
   "metadata": {},
   "source": [
    "调用作为参数的函数和调用普通函数的语法是一样的\n",
    "\n",
    "还可以从函数中返回另一个函数, 声明一个返回另一个函数的函数，需要指定一个函数类型作为返回类型。并使用return表达式返回一个函数的实现。"
   ]
  },
  {
   "cell_type": "code",
   "execution_count": null,
   "metadata": {},
   "outputs": [],
   "source": [
    "enum class Delivery { STANDARD, EXPEDITED }\n",
    "\n",
    "class Order(val itemCount: Int)\n",
    "\n",
    "fun getShippingCostCalculator(delivery: Delivery): (Order) -> Double {\n",
    "    if (delivery == Delivery.EXPEDITED) {\n",
    "        return { order -> 6 + 2.1 * order.itemCount }\n",
    "    }\n",
    "    \n",
    "    return { order -> 1.2 * order.itemCount }\n",
    "}\n",
    "\n",
    "val calculator = getShippingCostCalculator(Delivery.EXPEDITED)\n",
    "println(\"Shipping costs ${calculator(Order(3))}\")"
   ]
  },
  {
   "cell_type": "markdown",
   "metadata": {},
   "source": [
    "### 内联函数\n",
    "使用inline修饰符标记一个函数，在函数被使用的时候，编译器不会生成函数调用的代码，而是使用函数实现的真实代码替换每一次的函数调用"
   ]
  },
  {
   "cell_type": "code",
   "execution_count": null,
   "metadata": {},
   "outputs": [],
   "source": [
    "inline fun <T> synchronized(lock: Lock, action: () -> T): T {\n",
    "    lock.lock()\n",
    "    try {\n",
    "        return action()\n",
    "    } finally {\n",
    "        lock.unlock()\n",
    "    }\n",
    "}\n",
    "\n",
    "fun foo(l: Lock) {\n",
    "    println(\"Before sync\")\n",
    "    synchronized(l) {\n",
    "        println(\"Action\")\n",
    "    }\n",
    "    println(\"After sync\")\n",
    "}"
   ]
  },
  {
   "cell_type": "markdown",
   "metadata": {},
   "source": [
    "编译后的代码为："
   ]
  },
  {
   "cell_type": "code",
   "execution_count": null,
   "metadata": {},
   "outputs": [],
   "source": [
    "fun __foo__(l: Lock) {\n",
    "    println(\"Before sync\")\n",
    "    l.lock()\n",
    "    try {\n",
    "        println(\"Action\")\n",
    "    } finally {\n",
    "        l.unlock()\n",
    "    }\n",
    "    println(\"After sync\")\n",
    "}"
   ]
  },
  {
   "cell_type": "markdown",
   "metadata": {},
   "source": [
    "### Lambda的返回\n",
    "只有在以lambda作为参数的函数是内联函数的时候，才能从更外层的函数返回。在一个非内联函数的lambda中使用return表达式是不允许的。一个非内联函数可以把传给它的lambda保存在变量中，以便在函数返回以后可以继续使用，这个时候lambda想要去影响函数的返回已经太晚了。"
   ]
  },
  {
   "cell_type": "code",
   "execution_count": null,
   "metadata": {},
   "outputs": [],
   "source": [
    "fun lookForAlice(people: List<Person>) {\n",
    "    people.forEach {\n",
    "        if (it.name == \"Alice\") {\n",
    "            println(\"Found!\")\n",
    "            return\n",
    "        }\n",
    "    }\n",
    "    println(\"Alice is not found\")\n",
    "}\n",
    "lookForAlice(people)"
   ]
  },
  {
   "cell_type": "markdown",
   "metadata": {},
   "source": [
    "也可以在lambda表达式中使用局部返回。它会终止lambda的执行，并接着从调用lambda的代码处执行。要区分局部返回和非局部返回，要用到标签。"
   ]
  },
  {
   "cell_type": "code",
   "execution_count": null,
   "metadata": {},
   "outputs": [],
   "source": [
    "fun lookForAlice(people: List<Person>) {\n",
    "    people.forEach label@{\n",
    "        if (it.name == \"Alice\") return@label\n",
    "    }\n",
    "    println(\"Alice might be somewhere\")\n",
    "}\n",
    "lookForAlice(people)"
   ]
  },
  {
   "cell_type": "markdown",
   "metadata": {},
   "source": [
    "可以使用调用lambda的函数名作为标签"
   ]
  },
  {
   "cell_type": "code",
   "execution_count": null,
   "metadata": {},
   "outputs": [],
   "source": [
    "fun lookForAlice(people: List<Person>) {\n",
    "    people.forEach {\n",
    "        if (it.name == \"Alice\") return@forEach\n",
    "    }\n",
    "    println(\"Alice might be somewhere\")\n",
    "}\n",
    "lookForAlice(people)"
   ]
  },
  {
   "cell_type": "markdown",
   "metadata": {},
   "source": [
    "---\n",
    "## Kotlin类型系统\n",
    "### 可空性\n",
    "看如下的函数"
   ]
  },
  {
   "cell_type": "code",
   "execution_count": null,
   "metadata": {},
   "outputs": [],
   "source": [
    "fun strLen(s: String) = s.length\n",
    "\n",
    "strLen(null)"
   ]
  },
  {
   "cell_type": "markdown",
   "metadata": {},
   "source": [
    "使用可能为null的实参调用strLen是不允许的，在编译期会被标记成错误。\n",
    "\n",
    "这个函数中的参数被声明成String类型，在Kotlin中这表示它必须包含一个String实例。这一点由编译器强制实话，所以不能传给它一个包含null的实参。这就保证了strLen函数永远不会在运行时抛出NullPointerException。\n",
    "\n",
    "为了使用strLen可以接受null为实参，需要显式地在类型名称后面加上问号来标记它:"
   ]
  },
  {
   "cell_type": "code",
   "execution_count": null,
   "metadata": {},
   "outputs": [],
   "source": [
    "fun strLenSafe(s: String?) = s.length"
   ]
  },
  {
   "cell_type": "markdown",
   "metadata": {},
   "source": [
    "上面的方法运行也是失败的，因为对可空类型的操作会受到限制，不能再调用它的方法，也不能把它赋值给非空类型的变量"
   ]
  },
  {
   "cell_type": "code",
   "execution_count": null,
   "metadata": {},
   "outputs": [],
   "source": [
    "val x: String? = null\n",
    "var y: String = x"
   ]
  },
  {
   "cell_type": "markdown",
   "metadata": {},
   "source": [
    "也不能把可空类型的值传给拥有非空类型参数的函数"
   ]
  },
  {
   "cell_type": "code",
   "execution_count": null,
   "metadata": {},
   "outputs": [],
   "source": [
    "fun strLen(s: String) = s.length\n",
    "val x: String? = null\n",
    "strLen(x)"
   ]
  },
  {
   "cell_type": "markdown",
   "metadata": {},
   "source": [
    "可以将可空类型与null进行比较，比较后编译器会记下结果 ，并在比较发生的作用域将此值当作非空来对待。"
   ]
  },
  {
   "cell_type": "code",
   "execution_count": null,
   "metadata": {},
   "outputs": [],
   "source": [
    "fun strLenSafe(s: String?): Int = if (s != null) s.length else 0\n",
    "\n",
    "val x: String? = null\n",
    "\n",
    "println(strLenSafe(x))\n",
    "\n",
    "println(strLenSafe(\"abc\"))"
   ]
  },
  {
   "cell_type": "markdown",
   "metadata": {},
   "source": [
    "可以使用**安全调用运算符?.**，把一次null检查和一次方法调用合并成一个操作"
   ]
  },
  {
   "cell_type": "code",
   "execution_count": null,
   "metadata": {},
   "outputs": [],
   "source": [
    "fun printAllCaps(s: String?) {\n",
    "    val allCaps: String? = s?.toUpperCase()\n",
    "    println(allCaps)\n",
    "}\n",
    "\n",
    "printAllCaps(\"abc\")\n",
    "\n",
    "printAllCaps(null)"
   ]
  },
  {
   "cell_type": "markdown",
   "metadata": {},
   "source": [
    "使用Elvis运算符提供代替null的默认值"
   ]
  },
  {
   "cell_type": "code",
   "execution_count": null,
   "metadata": {},
   "outputs": [],
   "source": [
    "fun foo(s: String?) {\n",
    "    val t: String = s ?: \"\"\n",
    "}"
   ]
  },
  {
   "cell_type": "markdown",
   "metadata": {},
   "source": [
    "Elvis运算符经常和安全调用运算符一起使用，用一个值代替对null对象调用方法时返回的null"
   ]
  },
  {
   "cell_type": "code",
   "execution_count": null,
   "metadata": {},
   "outputs": [],
   "source": [
    "fun strLenSafe(s: String?): Int = s?.length ?: 0\n",
    "\n",
    "println(strLenSafe(\"abc\"))\n",
    "\n",
    "println(strLenSafe(null))"
   ]
  },
  {
   "cell_type": "markdown",
   "metadata": {},
   "source": [
    "通过安全类型转换运算符as?，尝试把值转换成指定的类型，如果值不是合适的类型就返回Null。常见的使用模式是将安全转换和Elvis运算符结合使用"
   ]
  },
  {
   "cell_type": "code",
   "execution_count": null,
   "metadata": {},
   "outputs": [],
   "source": [
    "class Person(val firstName: String, val lastName: String) {\n",
    "    override fun equals(o: Any?): Boolean {\n",
    "        val otherPerson = o as? Person ?: return false\n",
    "        \n",
    "        return otherPerson.firstName == firstName && otherPerson.lastName == lastName\n",
    "    }\n",
    "    \n",
    "    override fun hashCode(): Int = firstName.hashCode() * 37 + lastName.hashCode()\n",
    "}\n",
    "\n",
    "val p1 = Person(\"Dmitry\", \"Jemerov\")\n",
    "val p2 = Person(\"Dmitry\", \"Jemerov\")\n",
    "\n",
    "println(p1 == p2)\n",
    "\n",
    "println(p1.equals(42))"
   ]
  },
  {
   "cell_type": "markdown",
   "metadata": {},
   "source": [
    "如果确信传入的参数不可能为null，可以使用非空断言!!把可空的实参转换成非空"
   ]
  },
  {
   "cell_type": "code",
   "execution_count": null,
   "metadata": {},
   "outputs": [],
   "source": [
    "fun ignoreNulls(s: String?) {\n",
    "    val sNotNull: String = s!!\n",
    "    println(sNotNull.length)\n",
    "}\n",
    "\n",
    "ignoreNulls(\"abc\")\n",
    "ignoreNulls(null)"
   ]
  },
  {
   "cell_type": "markdown",
   "metadata": {},
   "source": [
    "前面已经讲过，不能把可空类型的值作为实参，传递给使用非空参数的函数"
   ]
  },
  {
   "cell_type": "code",
   "execution_count": null,
   "metadata": {},
   "outputs": [],
   "source": [
    "fun sendEmailTo(email: String) {\n",
    "    println(\"send email to ${email}\")\n",
    "}\n",
    "\n",
    "val email: String? = \"jim@gmail.com\"\n",
    "sendEmailTo(email)"
   ]
  },
  {
   "cell_type": "markdown",
   "metadata": {},
   "source": [
    "必须显式地检查这个值不为null"
   ]
  },
  {
   "cell_type": "code",
   "execution_count": null,
   "metadata": {},
   "outputs": [],
   "source": [
    "fun sendEmailTo(email: String) {\n",
    "    println(\"Sending email to ${email}\")\n",
    "}\n",
    "\n",
    "val email: String? = \"jim@gmail.com\"\n",
    "if (email != null) sendEmailTo(email)"
   ]
  },
  {
   "cell_type": "markdown",
   "metadata": {},
   "source": [
    "可以使用let函数，并通过安全调用来调用它, 可空对象，转变为非空类型"
   ]
  },
  {
   "cell_type": "code",
   "execution_count": null,
   "metadata": {},
   "outputs": [],
   "source": [
    "fun sendEmailTo(email: String) {\n",
    "    println(\"Sending email to ${email}\")\n",
    "}\n",
    "var email: String? = \"jim@gmail.com\"\n",
    "email?.let { email -> sendEmailTo(email) }\n",
    "\n",
    "email = null\n",
    "email?.let { sendEmailTo(it) }"
   ]
  },
  {
   "cell_type": "markdown",
   "metadata": {},
   "source": [
    "有一种常见情况，属性最终是非空的，但不能使用非空值在构造方法中初始化。比如JUnit要求初始化的逻辑放在用@Before注解的方法中。但Kotlin通常要求在构造方法中初始化所有属性，如果某个属性是非空类型，就必须提供非空的初始化值。否则，就必须使用可空类型，而每次访问这个属性时，都需要进行null检查或者使用!!运算符"
   ]
  },
  {
   "cell_type": "code",
   "execution_count": null,
   "metadata": {},
   "outputs": [],
   "source": [
    "class MyService {\n",
    "    fun performAction(): String = \"foo\"\n",
    "}\n",
    "\n",
    "class MyTest {\n",
    "    private var myService: MyService? = null\n",
    "    \n",
    "    @Before fun setUp() {\n",
    "        myService = MyService()\n",
    "    }\n",
    "    \n",
    "    @Test fun testAction() {\n",
    "        Assert.assertEquals(\"foo\", myService!!performAction())\n",
    "    }\n",
    "}"
   ]
  },
  {
   "cell_type": "markdown",
   "metadata": {},
   "source": [
    "可以把myService声明为可以延迟初始化的，使用lateinit修饰符来完成这样的声明"
   ]
  },
  {
   "cell_type": "code",
   "execution_count": null,
   "metadata": {},
   "outputs": [],
   "source": [
    "class MyService {\n",
    "    fun performAction(): String = \"foo\"\n",
    "}\n",
    "\n",
    "class MyTest {\n",
    "    private lateinit var myService: MyService\n",
    "    \n",
    "    @Before fun setUp() {\n",
    "        myService = MyService()\n",
    "    }\n",
    "    \n",
    "    @Test fun testAction() {\n",
    "        Assert.assertEquals(\"foo\", myService.performAction())\n",
    "    }\n",
    "}"
   ]
  },
  {
   "cell_type": "markdown",
   "metadata": {},
   "source": [
    "### 基本数据类型"
   ]
  },
  {
   "cell_type": "markdown",
   "metadata": {},
   "source": [
    "#### 数据类型\n",
    "Java把基本数据类型和引用类型做了区分。一个基本数据类型的变量直接存储了它的值，而一个引用类型的变量存储的是指向包含该对象的内存地址的引用。而Kotlin并不区分基本数据类型和包装类型。在运行时，数字类型会尽可能的使用最高效的方式来表示，大多数情况下（包括变量、属性、参数和返回类型），Kotlin的数字类型会被编译成对应的Java基本数据类型（如Int会被编译成int）。只有在集合等使用泛型类型参数的地方，数字类型会被编译成对应的Java包装类型。在Kotlin中使用Java中的声明时，Java基本数据类型会变成非空类型。"
   ]
  },
  {
   "cell_type": "markdown",
   "metadata": {},
   "source": [
    "对应到Java基本数据类型的类型完整列表如下\n",
    "* 整数类型——Byte, Short, Int, Long\n",
    "* 浮点数类型——Float, Double\n",
    "* 字符类型——Char\n",
    "* 布尔类型——Boolean"
   ]
  },
  {
   "cell_type": "markdown",
   "metadata": {},
   "source": [
    "#### 数字转换\n",
    "Kotlin和Java之间一条重要的区别是处理数字转换的方式。Kotlin不会自动地把数字从一种类型转换成另外一种，即使是转换成范围更大的类型。\n",
    "\n",
    "例如下面的代码会出现类型不匹配错误："
   ]
  },
  {
   "cell_type": "code",
   "execution_count": null,
   "metadata": {},
   "outputs": [],
   "source": [
    "val i = 1\n",
    "val l: Long = i"
   ]
  },
  {
   "cell_type": "markdown",
   "metadata": {},
   "source": [
    "所有的类型转换，都需要以显式的方式进行："
   ]
  },
  {
   "cell_type": "code",
   "execution_count": null,
   "metadata": {},
   "outputs": [],
   "source": [
    "val i = 1\n",
    "\n",
    "val l: Long = i.toLong()"
   ]
  },
  {
   "cell_type": "markdown",
   "metadata": {},
   "source": [
    "每个数字类型支持如下的转换:\n",
    "\n",
    "- toByte(): Byte\n",
    "- toShort(): Short\n",
    "- toInt(): Int\n",
    "- toLong(): Long\n",
    "- toFloat(): Float\n",
    "- toDouble(): Double\n",
    "- toChar(): Char"
   ]
  },
  {
   "cell_type": "markdown",
   "metadata": {},
   "source": [
    "Kotlin支持类型推定，假设Kotlin支持隐式转换的话，下面语句结果会是false。这并不符合人们的预期。"
   ]
  },
  {
   "cell_type": "code",
   "execution_count": null,
   "metadata": {},
   "outputs": [],
   "source": [
    "val x = 1\n",
    "\n",
    "val list = listOf(1L, 2L, 3L)\n",
    "\n",
    "x in list"
   ]
  },
  {
   "cell_type": "markdown",
   "metadata": {},
   "source": [
    "通过强制要求显式转换，可以避免不符合预期的行为。"
   ]
  },
  {
   "cell_type": "code",
   "execution_count": null,
   "metadata": {},
   "outputs": [],
   "source": [
    "val x = 1\n",
    "println(x.toLong() in listOf(1L, 2L, 3L))"
   ]
  },
  {
   "cell_type": "markdown",
   "metadata": {},
   "source": [
    "#### 字符串转换\n",
    "Kotlin标准库提供了一套相似的扩展方法，用来把字符串转换成基本数据类型(toInt, toByte, toBoolean等）。每个这样的函数都会尝试把字符串的内容解析成对应的类型，如果解析失败则抛出NumberFormantException"
   ]
  },
  {
   "cell_type": "code",
   "execution_count": null,
   "metadata": {},
   "outputs": [],
   "source": [
    "println(\"42\".toInt())"
   ]
  },
  {
   "cell_type": "code",
   "execution_count": null,
   "metadata": {},
   "outputs": [],
   "source": [
    "\"haha\".toInt()"
   ]
  },
  {
   "cell_type": "markdown",
   "metadata": {},
   "source": [
    "#### 字面常量\n",
    "数值常量字面值有以下几种:\n",
    "\n",
    "- 十进制: 123\n",
    "- Long 类型用大写 L 标记: 123L\n",
    "- 十六进制: 0x0F\n",
    "- 二进制: 0b00001011\n",
    "\n",
    "注意: 不支持八进制\n",
    "\n",
    "Kotlin 同样支持浮点数的常规表示方法:\n",
    "\n",
    "- 默认 double：123.5、123.5e10\n",
    "- Float 用 f 或者 F 标记: 123.5f"
   ]
  },
  {
   "cell_type": "markdown",
   "metadata": {},
   "source": [
    "#### Any和Any?\n",
    "Kotlin中，Any是所有非空类型的超类型，包括像Int这样的基本数据类型。如果需要可以持有任何可能值的变量，包括null在内，必须使用Any?类型。"
   ]
  },
  {
   "cell_type": "markdown",
   "metadata": {},
   "source": [
    "#### Unit类型\n",
    "Kotlin中的Unit类型完成了Java中的void一样的功能，当函数没什么有意思的结果要返回时，它可以用作函数的返回类型。\n",
    "\n",
    "#### Nothing\n",
    "确定方法不可能正常返回的时候使用"
   ]
  },
  {
   "cell_type": "markdown",
   "metadata": {},
   "source": [
    "#### 数组\n",
    "数组在 Kotlin 中使用 Array 类来表示，它定义了 get 与 set 函数（按照运算符重载约定这会转变为 []）以及 size 属性，以及一些其他有用的成员函数：\n",
    "```\n",
    "class Array<T> private constructor() {\n",
    "    val size: Int\n",
    "    operator fun get(index: Int): T\n",
    "    operator fun set(index: Int, value: T): Unit\n",
    "\n",
    "    operator fun iterator(): Iterator<T>\n",
    "    // ……\n",
    "}\n",
    "```\n",
    "我们可以使用库函数 arrayOf() 来创建一个数组并传递元素值给它，这样 arrayOf(1, 2, 3) 创建了 array [1, 2, 3]。 或者，库函数 arrayOfNulls() 可以用于创建一个指定大小的、所有元素都为空的数组。\n",
    "\n",
    "另一个选项是用接受数组大小以及一个函数参数的 Array 构造函数，用作参数的函数能够返回给定索引的每个元素初始值："
   ]
  },
  {
   "cell_type": "code",
   "execution_count": null,
   "metadata": {},
   "outputs": [],
   "source": [
    "// 创建一个 Array<String> 初始化为 [\"0\", \"1\", \"4\", \"9\", \"16\"]\n",
    "val asc = Array(5) { i -> (i * i).toString() }\n",
    "asc.forEach { println(it) }"
   ]
  },
  {
   "cell_type": "markdown",
   "metadata": {},
   "source": [
    "如上所述，[] 运算符代表调用成员函数 get() 与 set()。\n",
    "\n",
    "原生类型数组\n",
    "\n",
    "Kotlin 也有无装箱开销的专门的类来表示原生类型数组: ByteArray、 ShortArray、IntArray 等等。这些类与 Array 并没有继承关系，但是它们有同样的方法属性集。它们也都有相应的工厂方法:"
   ]
  },
  {
   "cell_type": "code",
   "execution_count": null,
   "metadata": {},
   "outputs": [],
   "source": [
    "val x: IntArray = intArrayOf(1, 2, 3)\n",
    "x[0] = x[1] + x[2]\n",
    "\n",
    "x.forEach { println(it)}"
   ]
  },
  {
   "cell_type": "code",
   "execution_count": null,
   "metadata": {},
   "outputs": [],
   "source": [
    "// 大小为 5、值为 [0, 0, 0, 0, 0] 的整型数组\n",
    "val arr = IntArray(5)\n",
    "\n",
    "arr.forEach { println(it)}"
   ]
  },
  {
   "cell_type": "code",
   "execution_count": null,
   "metadata": {},
   "outputs": [],
   "source": [
    "// 例如：用常量初始化数组中的值\n",
    "// 大小为 5、值为 [42, 42, 42, 42, 42] 的整型数组\n",
    "val arr = IntArray(5) { 42 }\n",
    "\n",
    "arr.forEach { println(it)}"
   ]
  },
  {
   "cell_type": "code",
   "execution_count": null,
   "metadata": {},
   "outputs": [],
   "source": [
    "// 例如：使用 lambda 表达式初始化数组中的值\n",
    "// 大小为 5、值为 [0, 1, 2, 3, 4] 的整型数组（值初始化为其索引值）\n",
    "var arr = IntArray(5) { it * 1 }\n",
    "\n",
    "arr.forEach { println(it)}"
   ]
  },
  {
   "cell_type": "markdown",
   "metadata": {},
   "source": [
    "## 集合"
   ]
  },
  {
   "cell_type": "markdown",
   "metadata": {},
   "source": [
    "### 只读集合与可变集合\n",
    "Kotlin的集合设计和Java不同的一项重要特质是，它把访问集合数据的接口和修改集合数据的接口分开了。\n",
    "\n",
    "只读接口：\n",
    "kotlin.collections.Collection\n",
    "- size\n",
    "- Iterator()\n",
    "- contains()\n",
    "\n",
    "可变接口：\n",
    "kotlin.collections.MutableCollection\n",
    "- add()\n",
    "- remove()\n",
    "- clear()\n",
    "\n",
    "**<center>Kotlin集合接口</center>**\n",
    "\n",
    "<img src=\"collections-diagram.png\" width=\"50%\">\n",
    "\n",
    "Kotlin提供了一系列集合创建函数，用来创建不同类型的集合\n",
    "\n",
    "|集合类型|只读|可变|\n",
    "|---|---|---|\n",
    "|List|listOf|mutableListOf, arrayListOf|\n",
    "|Set|setOf|mutableSetOf, hashSetOf, linkedSetOf, sortedSetOf|\n",
    "|Map|mapOf|mutableMapOf, hashMapOf, linkedMapOf, sortedMapOf|\n",
    "\n",
    "注意，kotlin中的只读集合，在Java中被调用时，也可以被修改。\n",
    "\n",
    "### List相关操作\n",
    "#### 按索引取元素\n",
    "使用get()方法或者[]获取list中的值\n",
    "\n",
    "Kotlin还提供了两个额外的方法，用于处理index越界的情况：\n",
    "- getOrElse()，可以提供一个函数，当未获取到值时，通过这个函数生成返回值\n",
    "- getOrNull()，未获取到值时，返回null\n"
   ]
  },
  {
   "cell_type": "code",
   "execution_count": null,
   "metadata": {},
   "outputs": [],
   "source": [
    "val numbers = listOf(1, 2, 3, 4)\n",
    "println(numbers.get(0))\n",
    "println(numbers[0])\n",
    "//numbers.get(5)                         // exception!\n",
    "println(numbers.getOrNull(5))             // null\n",
    "println(numbers.getOrElse(5, {it}))        // 5"
   ]
  },
  {
   "cell_type": "markdown",
   "metadata": {},
   "source": [
    "#### 取列表的一部分\n",
    "list提供subList()方法，用于生成一个子列表"
   ]
  },
  {
   "cell_type": "code",
   "execution_count": null,
   "metadata": {},
   "outputs": [],
   "source": [
    "val numbers = (0..13).toList()\n",
    "println(numbers.subList(3, 6))"
   ]
  },
  {
   "cell_type": "markdown",
   "metadata": {},
   "source": [
    "#### list写操作\n",
    "添加、删除元素与Java类似\n",
    "\n",
    "更新列表"
   ]
  },
  {
   "cell_type": "code",
   "execution_count": null,
   "metadata": {},
   "outputs": [],
   "source": [
    "val numbers = mutableListOf(\"one\", \"five\", \"three\")\n",
    "numbers[1] =  \"two\"\n",
    "println(numbers)"
   ]
  },
  {
   "cell_type": "markdown",
   "metadata": {},
   "source": [
    "除以上操作外，list还提供二分查找、排序等方法"
   ]
  },
  {
   "cell_type": "markdown",
   "metadata": {},
   "source": [
    "### set相关操作\n",
    "对set的操作主要有三种：\n",
    "* union() 求并集\n",
    "* intersect() 求交集\n",
    "* subtract() 求差集"
   ]
  },
  {
   "cell_type": "code",
   "execution_count": null,
   "metadata": {},
   "outputs": [],
   "source": [
    "val numbers = setOf(\"one\", \"two\", \"three\")\n",
    "\n",
    "println(numbers union setOf(\"four\", \"five\"))\n",
    "println(setOf(\"four\", \"five\") union numbers)\n",
    "\n",
    "println(numbers intersect setOf(\"two\", \"one\"))\n",
    "println(numbers subtract setOf(\"three\", \"four\"))\n",
    "println(numbers subtract setOf(\"four\", \"three\")) // same output"
   ]
  },
  {
   "cell_type": "markdown",
   "metadata": {},
   "source": [
    "### map相关操作\n",
    "在创建map时，使用中缀运算符to衔接key和value, 可通过[]操作设置和获取其中的元素。"
   ]
  },
  {
   "cell_type": "code",
   "execution_count": null,
   "metadata": {},
   "outputs": [],
   "source": [
    "val numbersMap = mapOf(\"one\" to 1, \"two\" to 2, \"three\" to 3)\n",
    "println(numbersMap.get(\"one\"))\n",
    "println(numbersMap[\"one\"])\n",
    "println(numbersMap.getOrDefault(\"four\", 10))\n",
    "println(numbersMap[\"five\"])               // null\n",
    "//numbersMap.getValue(\"six\")      // exception!"
   ]
  },
  {
   "cell_type": "code",
   "execution_count": null,
   "metadata": {},
   "outputs": [],
   "source": [
    "val numbersMap = mutableMapOf(\"one\" to 1, \"two\" to 2)\n",
    "numbersMap.put(\"three\", 3)\n",
    "println(numbersMap)\n",
    "numbersMap[\"three\"] = 33\n",
    "println(numbersMap)"
   ]
  },
  {
   "cell_type": "markdown",
   "metadata": {},
   "source": [
    "还可以通+=， -=操作map"
   ]
  },
  {
   "cell_type": "code",
   "execution_count": null,
   "metadata": {},
   "outputs": [],
   "source": [
    "val numbersMap = mutableMapOf(\"one\" to 1, \"two\" to 2)\n",
    "numbersMap[\"three\"] = 3     // calls numbersMap.put(\"three\", 3)\n",
    "numbersMap += mapOf(\"four\" to 4, \"five\" to 5)\n",
    "println(numbersMap)\n",
    "\n",
    "numbersMap -= \"two\"\n",
    "println(numbersMap)\n",
    "numbersMap -= \"six\"             //doesn't remove anything\n",
    "println(numbersMap)"
   ]
  },
  {
   "cell_type": "markdown",
   "metadata": {},
   "source": [
    "可通过**解构声明**，遍历map"
   ]
  },
  {
   "cell_type": "code",
   "execution_count": null,
   "metadata": {},
   "outputs": [],
   "source": [
    "val numbersMap = mapOf(\"one\" to 1, \"two\" to 2, \"three\" to 3)\n",
    "\n",
    "for ((key, value) in numbersMap) {\n",
    "    println(\"${key} = ${value}\")\n",
    "}"
   ]
  },
  {
   "cell_type": "markdown",
   "metadata": {},
   "source": [
    "### 集合的函数式API\n",
    "函数式编程风格在操作集合时提供了很多优势。大多数任务可以通过库函数完成，来简化代码。\n",
    "#### filter和map\n",
    "filter函数遍历集合并选出应用给定lambda后会返回true的那些元素"
   ]
  },
  {
   "cell_type": "code",
   "execution_count": null,
   "metadata": {},
   "outputs": [],
   "source": [
    "data class Person(val name: String, val age: Int)\n",
    "\n",
    "val people = listOf(Person(\"Alice\", 29), Person(\"Bob\", 31))\n",
    "println(people.filter { it.age > 30 })"
   ]
  },
  {
   "cell_type": "markdown",
   "metadata": {},
   "source": [
    "map函数对集合中的每一个元素应用给定的函数并把结果收集到一个新集合"
   ]
  },
  {
   "cell_type": "code",
   "execution_count": null,
   "metadata": {},
   "outputs": [],
   "source": [
    "val people = listOf(Person(\"Alice\", 29), Person(\"Bob\", 31))\n",
    "\n",
    "println(people.map { it.name })"
   ]
  },
  {
   "cell_type": "code",
   "execution_count": null,
   "metadata": {},
   "outputs": [],
   "source": [
    "people.map(Person::name)"
   ]
  },
  {
   "cell_type": "markdown",
   "metadata": {},
   "source": [
    "可以把多次调用链接起来"
   ]
  },
  {
   "cell_type": "code",
   "execution_count": null,
   "metadata": {},
   "outputs": [],
   "source": [
    "people.filter { it.age > 30 }.map(Person::name)"
   ]
  },
  {
   "cell_type": "markdown",
   "metadata": {},
   "source": [
    "下面代码找到分组中人的最大年龄，然后返回所有这个年龄的人。"
   ]
  },
  {
   "cell_type": "code",
   "execution_count": null,
   "metadata": {},
   "outputs": [],
   "source": [
    "val people = listOf(Person(\"Alice\", 29), Person(\"Bob\", 31))\n",
    "people.filter { it.age == people.maxBy(Person::age)!!.age }"
   ]
  },
  {
   "cell_type": "markdown",
   "metadata": {},
   "source": [
    "**注意！**这段代码对每个人都会重复寻找最大年龄的过程，假设集合中有100个人，寻找最大年龄的过程会执行100遍。\n",
    "\n",
    "下面的代码进行了改进"
   ]
  },
  {
   "cell_type": "code",
   "execution_count": null,
   "metadata": {},
   "outputs": [],
   "source": [
    "val maxAge = people.maxBy(Person::age)!!.age\n",
    "\n",
    "people.filter { it.age == maxAge }"
   ]
  },
  {
   "cell_type": "markdown",
   "metadata": {},
   "source": [
    "如果没有必要，不要重复计算！使用lambda表达式的代码看起来简单，有时候却掩盖了底层操作的复杂性。**<font color='red'> 始终牢记你写的代码在干什么 </font>**。"
   ]
  },
  {
   "cell_type": "markdown",
   "metadata": {},
   "source": [
    "#### all, any, count和find: 对集合应用判断式\n",
    "一种常见的任务，是检查集合中的所有元素是否都符合某个条件，在Kotlin中通过all函数表达。它的变种，是否存在符合的元素，通过any函数表达。"
   ]
  },
  {
   "cell_type": "code",
   "execution_count": null,
   "metadata": {},
   "outputs": [],
   "source": [
    "val canBeInClub27 = { p: Person -> p.age <= 27 }\n",
    "\n",
    "val people = listOf(Person(\"Alice\", 27), Person(\"Bob\", 31))\n",
    "println(people.all(canBeInClub27))\n",
    "\n",
    "println(people.any(canBeInClub27))"
   ]
  },
  {
   "cell_type": "markdown",
   "metadata": {},
   "source": [
    "count函数检查有多少元素满足判断式"
   ]
  },
  {
   "cell_type": "code",
   "execution_count": null,
   "metadata": {},
   "outputs": [],
   "source": [
    "println(people.count(canBeInClub27))"
   ]
  },
  {
   "cell_type": "markdown",
   "metadata": {},
   "source": [
    "要找到一个满足判断式的元素，使用find函数"
   ]
  },
  {
   "cell_type": "code",
   "execution_count": null,
   "metadata": {},
   "outputs": [],
   "source": [
    "people.find(canBeInClub27)"
   ]
  },
  {
   "cell_type": "markdown",
   "metadata": {},
   "source": [
    "#### groupBy: 把列表转换成分组的map\n",
    "groupBy操作的结果是一个map，是元素分组依据的键和元素分组之间的映射。"
   ]
  },
  {
   "cell_type": "code",
   "execution_count": null,
   "metadata": {},
   "outputs": [],
   "source": [
    "val people = listOf(Person(\"Alice\", 31), Person(\"Bob\", 29), Person(\"Carol\", 31))\n",
    "\n",
    "println(people.groupBy { it.age })"
   ]
  },
  {
   "cell_type": "code",
   "execution_count": null,
   "metadata": {},
   "outputs": [],
   "source": [
    "val list = listOf(\"a\", \"ab\", \"b\")\n",
    "println(list.groupBy(String::first))"
   ]
  },
  {
   "cell_type": "markdown",
   "metadata": {},
   "source": [
    "### flatMap和flattern: 处理嵌套集合中的元素\n",
    "\n",
    "flatMap函数做了两件事：首先根据作为实参给定的函数对集合中的元素做变换（或者说映射），然后把多个列表合并（平铺）成一个列表。"
   ]
  },
  {
   "cell_type": "code",
   "execution_count": null,
   "metadata": {},
   "outputs": [],
   "source": [
    "val strings = listOf(\"abc\", \"def\")\n",
    "\n",
    "println(strings.flatMap { it.toList() })"
   ]
  },
  {
   "cell_type": "markdown",
   "metadata": {},
   "source": [
    "如果不需要做任何变换，只是需要平铺一个集合，可以使用flatten函数"
   ]
  },
  {
   "cell_type": "code",
   "execution_count": null,
   "metadata": {},
   "outputs": [],
   "source": [
    "val strings = listOf(\"abc\".toList(), \"def\".toList())\n",
    "println(strings.flatten())"
   ]
  },
  {
   "cell_type": "markdown",
   "metadata": {},
   "source": [
    "其它集合操作函数请参考Kotlin官方网站"
   ]
  },
  {
   "cell_type": "markdown",
   "metadata": {},
   "source": [
    "### 序列\n",
    "对集合进行链式函数调用，如map和filter时，这些函数会及早地创建中间集合，也就是说每一步的中间结果都被存储在一个临时列表。序列可以避免创建这些临时中间变量。序列操作分为两类，中间的和末端的，一次中间操作返回的是另一个序列，而一次末端操作返回的是一个结果。只有末端操作被调用的时候，序列操作才会执行。可以调用扩展函数asSequence把任意集合转换成序列，调用toList来做反向的转换。\n",
    "\n",
    "可以看一下下面两个例子的区别。"
   ]
  },
  {
   "cell_type": "code",
   "execution_count": null,
   "metadata": {},
   "outputs": [],
   "source": [
    "listOf(1, 2, 3, 4)\n",
    "    .map { \n",
    "        print(\"map($it) \")\n",
    "        it * it\n",
    "    }.find {\n",
    "        print(\"find($it) \")\n",
    "        it > 3\n",
    "    }"
   ]
  },
  {
   "cell_type": "code",
   "execution_count": null,
   "metadata": {},
   "outputs": [],
   "source": [
    "listOf(1, 2, 3, 4)\n",
    "    .asSequence()\n",
    "    .map { \n",
    "        print(\"map($it) \")\n",
    "        it * it\n",
    "    }.find {\n",
    "        print(\"find($it) \")\n",
    "        it > 3\n",
    "    }"
   ]
  },
  {
   "cell_type": "markdown",
   "metadata": {},
   "source": [
    "## 泛型\n",
    "### 声明泛型类\n",
    "和Java一样，Kotlin通过在类名称后面加上一对尖括号，并把类型参数放在尖括号内来声明泛型类及泛型接口。\n",
    "```\n",
    "interface List<T> {\n",
    "    operator fun get(index: Int): T\n",
    "}\n",
    "```"
   ]
  },
  {
   "cell_type": "markdown",
   "metadata": {},
   "source": [
    "如果类继承了泛型类，就要为基础类型的泛型形参提供一个类型实参。它可以是具体类型或者另一个类型形参：\n",
    "```\n",
    "class StringList: List<String> {    // 这个类实现了List，提供了具体类型实参: String\n",
    "    override fun get(index: Int): String = ...   \n",
    "}\n",
    "\n",
    "class ArrayList<T>: List<T> {       // ArrayList的泛型类型形参T就是List的类型实参\n",
    "    override fun get(index: Int): T = ...\n",
    "}\n",
    "```"
   ]
  },
  {
   "cell_type": "markdown",
   "metadata": {},
   "source": [
    "一个类甚至可以把它自己作为类型实参引用。\n",
    "```\n",
    "interface Comparable<T> {\n",
    "    fun compareTo(other: T): Int\n",
    "}\n",
    "\n",
    "class String : Comparable<String> {\n",
    "    override fun compareTo(other: String): Int = /* ... */\n",
    "}\n",
    "```"
   ]
  },
  {
   "cell_type": "markdown",
   "metadata": {},
   "source": [
    "String类实现了Comparable泛型接口，提供类型String给类型实参T"
   ]
  },
  {
   "cell_type": "markdown",
   "metadata": {},
   "source": [
    "### 类型参数约束\n",
    "类型参数约束可以限制作为泛型类和泛型函数的类型实参的类型。如计算列表元素之和的函数为例，它可以用在List&lt;Int&gt;和List&lt;Double&gt;上，但不可以用在List&lt;String&gt;这样的列表上。可以定义一个类型参数约束，说明sum的类型形参必须是数字，来表达这个限制。\n",
    "\n",
    "在Java中，使用&lt;T extends Number&gt;来表达这个约束，而在Kotlin中，使用<T: Number>来表达\n",
    "    \n",
    "```\n",
    "fun <T : Number> List<T>.sum(): T\n",
    "```"
   ]
  },
  {
   "cell_type": "code",
   "execution_count": null,
   "metadata": {},
   "outputs": [],
   "source": [
    "println(listOf(1, 2, 3).sum())"
   ]
  },
  {
   "cell_type": "code",
   "execution_count": null,
   "metadata": {},
   "outputs": [],
   "source": [
    "println(listOf(\"abc\", \"bac\").sum())"
   ]
  },
  {
   "cell_type": "markdown",
   "metadata": {},
   "source": [
    "一旦指定了类型形参T的上界，就可以把类型T的值当作它的上界的值使用，比如，可以调用定义在上界类中的方法："
   ]
  },
  {
   "cell_type": "code",
   "execution_count": null,
   "metadata": {},
   "outputs": [],
   "source": [
    "fun <T: Number> oneHalf(value: T): Double {\n",
    "    return value.toDouble() / 2.0\n",
    "}\n",
    "\n",
    "println(oneHalf(3))"
   ]
  },
  {
   "cell_type": "markdown",
   "metadata": {},
   "source": [
    "### 让类型形参非空\n",
    "没有指定上界的类型形参将会使用Any?作为默认的上界。如果你想保证替换类型形参的始终是非空类型，可以通过指定一个约束来实现。如果除了可空性外没有任何限制，可以使用Any代替默认的Any?作为上界"
   ]
  },
  {
   "cell_type": "code",
   "execution_count": null,
   "metadata": {},
   "outputs": [],
   "source": [
    "class Processor<T: Any> {\n",
    "    fun process(value: T) {\n",
    "        value.hashCode()\n",
    "    }\n",
    "}"
   ]
  },
  {
   "cell_type": "markdown",
   "metadata": {},
   "source": [
    "### 型变\n",
    "假设有一个接收List&lt;Any&gt;作为实参函数。把List&lt;String&gt;类型的变量传给这个函数是否安全？\n",
    "\n",
    "先看第一个函数："
   ]
  },
  {
   "cell_type": "code",
   "execution_count": 1,
   "metadata": {},
   "outputs": [
    {
     "name": "stdout",
     "output_type": "stream",
     "text": [
      "abc, bac\n"
     ]
    }
   ],
   "source": [
    "fun printContents(list: List<Any>) {\n",
    "    println(list.joinToString())\n",
    "}\n",
    "val l : List<String> = listOf(\"abc\", \"bac\")\n",
    "printContents(l)"
   ]
  },
  {
   "cell_type": "markdown",
   "metadata": {},
   "source": [
    "再看另一个函数，它会修改列表："
   ]
  },
  {
   "cell_type": "code",
   "execution_count": 2,
   "metadata": {},
   "outputs": [
    {
     "name": "stderr",
     "output_type": "stream",
     "text": [
      "error: type mismatch: inferred type is MutableList<String> but MutableList<Any> was expected\n",
      "addAnswer(strings)\n",
      "          ^\n"
     ]
    }
   ],
   "source": [
    "fun addAnswer(list: MutableList<Any>) {\n",
    "    list.add(42)\n",
    "}\n",
    "\n",
    "val strings = mutableListOf(\"abc\", \"bac\")\n",
    "addAnswer(strings)\n",
    "println(strings.maxBy { it.length })"
   ]
  },
  {
   "cell_type": "markdown",
   "metadata": {},
   "source": [
    "从上面两个函数可以看出，如果函数添加或者替换了列表中的元素，那就是不安全的，因为这样会产生类型不一致的可能性。如果只是读取元素，那么就是安全的。\n",
    "\n",
    "MutableList是不型变的，String是Any的子类型，MutableList&lt;String&gt;并不是MutableList&lt;Any&gt;的子类型\n",
    "\n",
    "List是协变的，String是Any的子类型，List&lt;String&gt;是List&lt;Any&gt;的子类型\n",
    "\n",
    "#### 协变\n",
    "再看一下下面这个例子："
   ]
  },
  {
   "cell_type": "code",
   "execution_count": 3,
   "metadata": {},
   "outputs": [
    {
     "name": "stdout",
     "output_type": "stream",
     "text": [
      "feed horse1\n",
      "feed horse2\n"
     ]
    }
   ],
   "source": [
    "open class Animal(val name: String) {\n",
    "    fun feed() {\n",
    "        println(\"feed ${name}\")\n",
    "    }\n",
    "}\n",
    "\n",
    "class Herd<T: Animal>(val l: List<T>) {\n",
    "    \n",
    "    val size: Int get() = l.size\n",
    "    \n",
    "    operator fun get(i: Int): T {\n",
    "        return l[i]\n",
    "    }\n",
    "}\n",
    "\n",
    "fun feedAll(animals: Herd<Animal>) {\n",
    "    for (i in 0 until animals.size) {\n",
    "        animals[i].feed()\n",
    "    }\n",
    "}\n",
    "\n",
    "val herd = Herd<Animal>(listOf(Animal(\"horse1\"), Animal(\"horse2\")))\n",
    "feedAll(herd)"
   ]
  },
  {
   "cell_type": "code",
   "execution_count": 4,
   "metadata": {},
   "outputs": [
    {
     "name": "stderr",
     "output_type": "stream",
     "text": [
      "error: type mismatch: inferred type is Line_3.Herd<Line_4.Cat> but Line_3.Herd<Line_3.Animal> was expected\n",
      "        feedAll(cats)\n",
      "                ^\n"
     ]
    }
   ],
   "source": [
    "class Cat(name: String): Animal(name) {\n",
    "    fun cleanLitter() {\n",
    "        println(\"clean litter for ${name}\")\n",
    "    }\n",
    "}\n",
    "\n",
    "fun takeCareOfCats(cats: Herd<Cat>) {\n",
    "    for (i in 0 until cats.size) {\n",
    "        cats[i].cleanLitter()\n",
    "        feedAll(cats)\n",
    "    }\n",
    "}\n",
    "\n",
    "val cats = Herd<Cat>(listOf(Cat(\"cat1\"), Cat(\"cat2\")))\n",
    "takeCareOfCats(cats)"
   ]
  },
  {
   "cell_type": "markdown",
   "metadata": {},
   "source": [
    "不型变给我们的使用带来了一些不便，我们期望传入Herd&lt;Cat&gt;类型时，feedAll方法也可以使用。可以观察到，Herd类并没有添加元素的方法，所以可以将Herd类的类型参数设置为协变型，使feedAll可以接受Herd&lt;Cat&gt;。通过使用out标识符，将参数标记为协变。"
   ]
  },
  {
   "cell_type": "code",
   "execution_count": null,
   "metadata": {},
   "outputs": [],
   "source": [
    "open class Animal(val name: String) {\n",
    "    fun feed() {\n",
    "        println(\"feed ${name}\")\n",
    "    }\n",
    "}\n",
    "\n",
    "class Herd<out T: Animal>(val l: List<T>) {\n",
    "    \n",
    "    val size: Int get() = l.size\n",
    "    \n",
    "    operator fun get(i: Int): T {\n",
    "        return l[i]\n",
    "    }\n",
    "}\n",
    "\n",
    "fun feedAll(animals: Herd<Animal>) {\n",
    "    for (i in 0 until animals.size) {\n",
    "        animals[i].feed()\n",
    "    }\n",
    "}\n",
    "\n",
    "class Cat(name: String): Animal(name) {\n",
    "    fun cleanLitter() {\n",
    "        println(\"clean litter for ${name}\")\n",
    "    }\n",
    "}\n",
    "\n",
    "fun takeCareOfCats(cats: Herd<Cat>) {\n",
    "    for (i in 0 until cats.size) {\n",
    "        cats[i].cleanLitter()\n",
    "        feedAll(cats)\n",
    "    }\n",
    "}\n",
    "\n",
    "val cats = Herd<Cat>(listOf(Cat(\"cat1\"), Cat(\"cat2\")))\n",
    "takeCareOfCats(cats)"
   ]
  },
  {
   "cell_type": "markdown",
   "metadata": {},
   "source": [
    "类型参数T上的关键字out有两层含义：\n",
    "* 子类型化会被保留，Herd&lt;Cat&gt;是Herd&lt;Animal&gt;的子类型\n",
    "* T只能用在out位置\n",
    "\n",
    "在类成员的声明中，类型参数的使用可以分为in位置和out位置。考虑这样一个类，它声明了一个类型参数T并包含了一个使用T的函数。如果函数是把T当成返因类型，那么T在out位置。如果T用作函数参数的类型，它就在in位置。\n",
    "\n",
    "#### 逆变\n",
    "逆变的概念可以被看成是协变的镜像，对一个逆变类来说，它的子类型化关系与用作类型实参的类的子类型化关系是相反的。以Comparator接口为例：\n",
    "```\n",
    "interface Compareator<in T> {\n",
    "    fun compare(e1: T, e2: T): Int\n",
    "}\n",
    "```"
   ]
  },
  {
   "cell_type": "code",
   "execution_count": null,
   "metadata": {},
   "outputs": [],
   "source": [
    "val anyComparator = Comparator<Any> {\n",
    "    e1, e2 -> e1.hashCode() - e2.hashCode()\n",
    "}\n",
    "\n",
    "val strings: List<String> = listOf(\"abc\", \"efg\", \"cde\", \"ghk\")\n",
    "strings.sortedWith(anyComparaor)"
   ]
  },
  {
   "cell_type": "markdown",
   "metadata": {},
   "source": [
    "sortedWith函数期望传入一个Comparator&lt;String&gt;类型的参数，而传入一个能比较更一般的类型的比较器是安全的。\n",
    "\n",
    "类型参数T上的关键字in的含义：\n",
    "* 子类型化出现了反转，Comparator&lt;Any&gt;是Comparator&lt;String&gt;的子类型\n",
    "* T只能用在in位置"
   ]
  },
  {
   "cell_type": "markdown",
   "metadata": {},
   "source": [
    "### 使用处型变\n",
    "在类声明的时候就能够指定型变修改符是很方便的，因为这些修饰符会应用到所有类被使用的地方。这被称作声明处型变。但有些类并不能在声明处限制只返回T, 如MutableList这样的接口，通常情况下既不是协变也不是逆变的，因为它同时生产和消费指定为它们类型参数的类型的值。但是对于这个类型的变量来说，在某个特定的函数中只被当成其中一种角色使用的情况挺常见的：要么是生产者，要么是消费者。例如下面这个简单的函数。"
   ]
  },
  {
   "cell_type": "code",
   "execution_count": null,
   "metadata": {},
   "outputs": [],
   "source": [
    "fun <T> copyData(source: MutableList<T>, destination: MutableList<T>) {\n",
    "    for (item in source) {\n",
    "        destination.add(item)\n",
    "    }\n",
    "}"
   ]
  },
  {
   "cell_type": "markdown",
   "metadata": {},
   "source": [
    "这个函数从一个集合中把元素拷贝到另一个集合中。尽管两个集合都拥有不变型的类型，来源集合只是用于读取，而目标集合只是用于写入。这种情况下，集合元素的类型不需要精确匹配。例如，把一个字符串集合拷贝到可以包含任意对象的集合中一点儿问题也没有。\n",
    "\n",
    "要让这个函数支持不同类型的列表，可以引入第二个泛型参数："
   ]
  },
  {
   "cell_type": "code",
   "execution_count": null,
   "metadata": {},
   "outputs": [],
   "source": [
    "fun <T: R, R> copyData(source: MutableList<T>, destination: MutableList<R>) {\n",
    "    for (item in source) {\n",
    "        destination.add(item)\n",
    "    }\n",
    "}\n",
    "\n",
    "val ints = mutableListOf(1, 2, 3)\n",
    "val anyItems = mutableListOf<Any>()\n",
    "copyData(ints, anyItems)\n",
    "println(anyItems)"
   ]
  },
  {
   "cell_type": "markdown",
   "metadata": {},
   "source": [
    "Kotlin提供了一种更优雅的表达方式，当函数的实现调用了那些类型参数只出现在out位置（或只出现在in位置）的方法时，可以充分利用这一点，在函数定义中给特定用途的类型参数加上型变修饰符。这被称作**类型投影**。"
   ]
  },
  {
   "cell_type": "code",
   "execution_count": null,
   "metadata": {},
   "outputs": [],
   "source": [
    "fun <T> copyData(source: MutableList<out T>, destination: MutableList<T>) {\n",
    "    for (item in source) {\n",
    "        destination.add(item)\n",
    "    }\n",
    "}\n",
    "\n",
    "val ints = mutableListOf(1, 2, 3)\n",
    "val anyItems = mutableListOf<Any>()\n",
    "copyData(ints, anyItems)\n",
    "println(anyItems)"
   ]
  },
  {
   "cell_type": "markdown",
   "metadata": {},
   "source": [
    "加上out修饰符后，source不是一个常规的MutableList，而是一个投影的MutableList，只能调用返回类型是泛型类型参数的那些方法，或者严格地讲，只在out位置使用它的方法。编译器禁止调用使用类型参数做实参的那些方法（在in位置使用类型参数)"
   ]
  },
  {
   "cell_type": "code",
   "execution_count": null,
   "metadata": {},
   "outputs": [],
   "source": [
    "val list: MutableList<out Number> = mutableListOf(1, 2, 3)\n",
    "\n",
    "list.add(42)"
   ]
  },
  {
   "cell_type": "markdown",
   "metadata": {},
   "source": [
    "同理，可以对类型参数的用法使用in修饰符，来表明在这个特定的地方，相应的值担当的是消费者。"
   ]
  },
  {
   "cell_type": "code",
   "execution_count": null,
   "metadata": {},
   "outputs": [],
   "source": [
    "fun <T> copyData(source: MutableList<T>, destination: MutableList<in T>) {\n",
    "    for (item in source) {\n",
    "        destination.add(item)\n",
    "    }\n",
    "}\n",
    "\n",
    "val ints = mutableListOf(1, 2, 3)\n",
    "val anyItems = mutableListOf<Any>()\n",
    "copyData(ints, anyItems)\n",
    "println(anyItems)"
   ]
  },
  {
   "cell_type": "markdown",
   "metadata": {},
   "source": [
    "Kotlin的使用处型变直接对应Java的限界通配符。Kotlin中的MutableList&lt;out T&gt;和Java中的MutableList<? extends T>是一个意思。in投影的MutableList&lt;in T&gt;对应到Java的MutableList<? super T>"
   ]
  },
  {
   "cell_type": "markdown",
   "metadata": {},
   "source": [
    "### 星号投影\n",
    "星号投影用来表明不知道关于泛型实参的任何信息，如List&lt;*&gt;代表包含未知类型元素的列表。\n",
    "\n",
    "需要注意的是，MutableList<*>和MutableList<Any?>不一样，MutableList<Any?>包含的是任意类型的元素，而MutableList&lt;*&gt;是包含某种特定类型元素的列表，只是不知道是哪个类型。这种列表被创建为一个包含某种特定类型元素的列表，比如String，而且创建它的代码期望只包含那种类型的元素。因为不知道是哪个类型，你不能向列表中写入任何东西，因为你写一篇的任何值都可能会违反调用代码的期望。但是从列表中读取元素是可行的，读取的元素会被当作Any?类型对待。"
   ]
  },
  {
   "cell_type": "code",
   "execution_count": null,
   "metadata": {},
   "outputs": [],
   "source": [
    "val list: MutableList<Any?> = mutableListOf('a', 1, \"qwe\")\n",
    "val chars = mutableListOf('a', 'b', 'c')\n",
    "val unknownElements: MutableList<*> = if (java.util.Random().nextBoolean()) list else chars\n",
    "println(unknownElements.first())\n"
   ]
  },
  {
   "cell_type": "code",
   "execution_count": null,
   "metadata": {},
   "outputs": [],
   "source": [
    "unknownElements.add(42)"
   ]
  },
  {
   "cell_type": "markdown",
   "metadata": {},
   "source": [
    "从上面的例子可以看到，编译器会把MutableList<*>当作out投影的类型，在没有任何元素类型信息的时候，读取Any?类型的元素仍然是安全的，但是向列表中写入元素是不安全的。Kotlin中的MyType<*>对应于Java的MyType<?>"
   ]
  },
  {
   "cell_type": "markdown",
   "metadata": {},
   "source": [
    "对于像Consumer&lt;in T&gt;这样的逆变类型参数来说，星号投影等价于<in Nothing>。在这种星号投影中无法调用任何签名中有T的方法。如果类型参数是逆变的，它就只能表现为一个消费者，但我们不知道它可以消费的到底是什么，因此，不能让它消费任何东西。在不了解之前，**建议不要使用这种方式**。细节请查看[Kotlin参考-星号投影](https://kotlinlang.org/docs/reference/generics.html#star-projections) ([这里是中文版](https://www.kotlincn.net/docs/reference/generics.html#%E6%98%9F%E6%8A%95%E5%BD%B1))"
   ]
  },
  {
   "cell_type": "markdown",
   "metadata": {},
   "source": [
    "---\n",
    "## 参考资料\n",
    "* 《Kotlin实战》\n",
    "* Kotlin官方教程：https://kotlinlang.org/docs/reference/\n",
    "* Kotlin官方教程中文版：https://www.kotlincn.net/docs/reference/\n",
    "* 百度Kotlin编码规范：http://wiki.baidu.com/pages/viewpage.action?pageId=761648214\n",
    "* Java程序员入门  https://fabiomsr.github.io/from-java-to-kotlin/\n",
    "* Kotlin快速入门 https://www.jianshu.com/p/272074d518af"
   ]
  },
  {
   "cell_type": "code",
   "execution_count": null,
   "metadata": {},
   "outputs": [],
   "source": []
  }
 ],
 "metadata": {
  "kernelspec": {
   "display_name": "Kotlin",
   "language": "kotlin",
   "name": "kotlin"
  },
  "language_info": {
   "file_extension": "kt",
   "name": "kotlin"
  }
 },
 "nbformat": 4,
 "nbformat_minor": 2
}
